{
 "cells": [
  {
   "cell_type": "code",
   "execution_count": 1,
   "metadata": {},
   "outputs": [],
   "source": [
    "import json\n",
    "with open(\"../cleaned_data_json/sample.json\") as f:\n",
    "    data=json.load(f)"
   ]
  },
  {
   "cell_type": "code",
   "execution_count": 2,
   "metadata": {},
   "outputs": [],
   "source": [
    "import scispacy\n",
    "import spacy\n",
    "nlp = spacy.load(\"en_core_sci_sm\") #biomedical specially trained model knows stop words of medical language"
   ]
  },
  {
   "cell_type": "code",
   "execution_count": 3,
   "metadata": {},
   "outputs": [],
   "source": [
    "#Merged abstract and body-text of a paper as doc\n",
    "text = [i[\"abstract\"].lower()+\" \"+i[\"body_text\"].lower() for i in data[\"text\"]]"
   ]
  },
  {
   "cell_type": "code",
   "execution_count": 4,
   "metadata": {},
   "outputs": [
    {
     "name": "stdout",
     "output_type": "stream",
     "text": [
      "TOTAL DOCS :  2000\n"
     ]
    }
   ],
   "source": [
    "#Took 2000 Research Papers for modelling\n",
    "cleaned_data = text\n",
    "print(\"TOTAL DOCS : \", len(cleaned_data))"
   ]
  },
  {
   "cell_type": "code",
   "execution_count": 5,
   "metadata": {},
   "outputs": [],
   "source": [
    "\"\"\"SPACY CAN CONSOLIDATE ALL OF THE TEXT CLEANING OPERATIONS UNDER ONE LINE \"\"\"\n",
    "\"\"\"THIS TAKES A TEXT AS INPUT TOKENIZES IT AND THEN DISCARDS THE TOKENS IF THEY BELONG TO\"\"\" \n",
    "\"\"\"PUNCTUATIONS STOP WORDS URLS EMAILS\"\"\"\n",
    "tokens_data = [[token.lower_ for token in nlp.tokenizer(cd) if not token.is_punct and not token.is_stop and not token.is_space and not token.like_url and not token.like_email] for cd in cleaned_data ]"
   ]
  },
  {
   "cell_type": "code",
   "execution_count": 6,
   "metadata": {},
   "outputs": [],
   "source": [
    "#Checking stops_words\n",
    "tokens_data_pool = [t for tokens in tokens_data for t in tokens]\n",
    "from collections import Counter\n",
    "wrds = Counter(tokens_data_pool)"
   ]
  },
  {
   "cell_type": "code",
   "execution_count": 7,
   "metadata": {},
   "outputs": [],
   "source": [
    "stop_words_found = \"preprint license copyright author/funder word count text https doi figure holder data cases medrxiv biorxiv made time may study high total population number granted used using also international fig cc-by-nc-nd rights reserved peer-reviewed et al. medrxiv copyright auther/funder copyright copyrights pre print preprint = fig fig. figure \""
   ]
  },
  {
   "cell_type": "code",
   "execution_count": 8,
   "metadata": {},
   "outputs": [
    {
     "name": "stdout",
     "output_type": "stream",
     "text": [
      "yes\n"
     ]
    }
   ],
   "source": [
    "\"This is the problem with stop_words_found also called bekar even when the word is not present it will signal as if it's there.\"\n",
    "if \"pre\" in stop_words_found:\n",
    "    print(\"yes\")"
   ]
  },
  {
   "cell_type": "code",
   "execution_count": 9,
   "metadata": {},
   "outputs": [],
   "source": [
    "stop_words_found = stop_words_found.split() #Best way to keep stop words\n",
    "tokens_data = [[token for token in td if token not in stop_words_found] for td in tokens_data]"
   ]
  },
  {
   "cell_type": "code",
   "execution_count": 10,
   "metadata": {},
   "outputs": [
    {
     "name": "stdout",
     "output_type": "stream",
     "text": [
      "yes\n"
     ]
    }
   ],
   "source": [
    "#After splitting and converting into list it works as thought.\n",
    "if \"pre\" in stop_words_found:\n",
    "    print(\"yes\")"
   ]
  },
  {
   "cell_type": "code",
   "execution_count": 11,
   "metadata": {},
   "outputs": [
    {
     "name": "stdout",
     "output_type": "stream",
     "text": [
      "199244\n"
     ]
    }
   ],
   "source": [
    "# Fitted LDA\n",
    "from gensim import models, corpora\n",
    "NUM_TOPICS=10\n",
    "dictionary = corpora.Dictionary(tokens_data)\n",
    "print(len(dictionary))\n",
    "corpus = [dictionary.doc2bow(t) for t in tokens_data]\n",
    "lda_model = models.LdaModel(corpus=corpus, num_topics=NUM_TOPICS, id2word=dictionary)"
   ]
  },
  {
   "cell_type": "code",
   "execution_count": 12,
   "metadata": {},
   "outputs": [
    {
     "name": "stdout",
     "output_type": "stream",
     "text": [
      "\n",
      "Topic #0: 0.005*\"1\" + 0.004*\"patients\" + 0.004*\"virus\" + 0.004*\"cells\" + 0.004*\"viral\" + 0.004*\"2\" + 0.004*\"infection\" + 0.003*\"protein\" + 0.003*\"3\" + 0.002*\"4\" + 0.002*\"analysis\" + 0.002*\"found\" + 0.002*\"10\" + 0.002*\"5\" + 0.002*\"table\" + 0.002*\"disease\" + 0.002*\"covid-19\" + 0.002*\"samples\" + 0.002*\"model\" + 0.002*\"studies\" + 0.002*\"expression\" + 0.002*\"gene\" + 0.002*\"results\" + 0.002*\"different\" + 0.002*\"de\" + 0.002*\"available\" + 0.002*\"case\" + 0.002*\"human\" + 0.002*\"control\" + 0.002*\"rna\" + 0.001*\"c\" + 0.001*\"sequence\" + 0.001*\"binding\" + 0.001*\"days\" + 0.001*\"group\" + 0.001*\"transmission\" + 0.001*\"viruses\" + 0.001*\"rate\" + 0.001*\"activity\" + 0.001*\"observed\" + 0.001*\"reported\" + 0.001*\"health\" + 0.001*\"proteins\" + 0.001*\"increased\" + 0.001*\"p\" + 0.001*\"respiratory\" + 0.001*\"clinical\" + 0.001*\"shown\" + 0.001*\"identified\" + 0.001*\"levels\"\n",
      "\n",
      "Topic #1: 0.008*\"cells\" + 0.004*\"1\" + 0.004*\"t\" + 0.004*\"2\" + 0.004*\"cell\" + 0.003*\"infection\" + 0.003*\"c\" + 0.003*\"virus\" + 0.003*\"e\" + 0.003*\"5\" + 0.003*\"3\" + 0.002*\"patients\" + 0.002*\"disease\" + 0.002*\"model\" + 0.002*\"protein\" + 0.002*\"10\" + 0.002*\"4\" + 0.002*\"n\" + 0.002*\"r\" + 0.002*\"different\" + 0.002*\"s\" + 0.002*\"p\" + 0.002*\"human\" + 0.002*\"table\" + 0.002*\"system\" + 0.002*\"results\" + 0.002*\"analysis\" + 0.002*\"treatment\" + 0.002*\"covid-19\" + 0.002*\"proteins\" + 0.002*\"viral\" + 0.002*\"expression\" + 0.002*\"infected\" + 0.002*\"health\" + 0.001*\"reported\" + 0.001*\"d\" + 0.001*\"including\" + 0.001*\"available\" + 0.001*\"q\" + 0.001*\"h\" + 0.001*\"o\" + 0.001*\"response\" + 0.001*\"observed\" + 0.001*\"levels\" + 0.001*\"6\" + 0.001*\"control\" + 0.001*\"influenza\" + 0.001*\"days\" + 0.001*\"shown\" + 0.001*\"showed\"\n",
      "\n",
      "Topic #2: 0.007*\"de\" + 0.005*\"la\" + 0.004*\"virus\" + 0.003*\"à\" + 0.003*\"viral\" + 0.003*\"infection\" + 0.003*\"les\" + 0.003*\"1\" + 0.003*\"cells\" + 0.003*\"des\" + 0.003*\"cell\" + 0.003*\"est\" + 0.003*\"2\" + 0.003*\"3\" + 0.003*\"une\" + 0.002*\"le\" + 0.002*\"patients\" + 0.002*\"5\" + 0.002*\"viruses\" + 0.002*\"4\" + 0.002*\"results\" + 0.002*\"protein\" + 0.002*\"analysis\" + 0.002*\"disease\" + 0.002*\"en\" + 0.002*\"infected\" + 0.002*\"reported\" + 0.002*\"group\" + 0.002*\"different\" + 0.002*\"10\" + 0.002*\"par\" + 0.002*\"health\" + 0.002*\"proteins\" + 0.002*\"model\" + 0.002*\"human\" + 0.001*\"table\" + 0.001*\"ou\" + 0.001*\"t\" + 0.001*\"days\" + 0.001*\"dans\" + 0.001*\"studies\" + 0.001*\"clinical\" + 0.001*\"c\" + 0.001*\"found\" + 0.001*\"control\" + 0.001*\"un\" + 0.001*\"including\" + 0.001*\"significant\" + 0.001*\"host\" + 0.001*\"du\"\n",
      "\n",
      "Topic #3: 0.007*\"1\" + 0.005*\"virus\" + 0.004*\"infection\" + 0.003*\"2\" + 0.003*\"viruses\" + 0.003*\"cells\" + 0.003*\"viral\" + 0.003*\"3\" + 0.003*\"protein\" + 0.003*\"patients\" + 0.003*\"disease\" + 0.002*\"t\" + 0.002*\"4\" + 0.002*\"infected\" + 0.002*\"results\" + 0.002*\"rna\" + 0.002*\"human\" + 0.002*\"cell\" + 0.002*\"samples\" + 0.002*\"de\" + 0.002*\"available\" + 0.002*\"10\" + 0.002*\"n\" + 0.002*\"respiratory\" + 0.002*\"showed\" + 0.002*\"model\" + 0.002*\"different\" + 0.002*\"table\" + 0.002*\"activity\" + 0.002*\"p\" + 0.002*\"health\" + 0.001*\"c\" + 0.001*\"age\" + 0.001*\"6\" + 0.001*\"new\" + 0.001*\"studies\" + 0.001*\"control\" + 0.001*\"days\" + 0.001*\"reported\" + 0.001*\"5\" + 0.001*\"group\" + 0.001*\"r\" + 0.001*\"h\" + 0.001*\"shown\" + 0.001*\"expression\" + 0.001*\"0\" + 0.001*\"covid-19\" + 0.001*\"analysis\" + 0.001*\"7\" + 0.001*\"rate\"\n",
      "\n",
      "Topic #4: 0.005*\"cells\" + 0.004*\"1\" + 0.004*\"q\" + 0.004*\"infection\" + 0.004*\"virus\" + 0.003*\"protein\" + 0.003*\"3\" + 0.003*\"2\" + 0.003*\"patients\" + 0.002*\"viral\" + 0.002*\"5\" + 0.002*\"studies\" + 0.002*\"cell\" + 0.002*\"clinical\" + 0.002*\"covid-19\" + 0.002*\"10\" + 0.002*\"different\" + 0.002*\"disease\" + 0.002*\"de\" + 0.002*\"expression\" + 0.002*\"respiratory\" + 0.002*\"c\" + 0.002*\"results\" + 0.002*\"analysis\" + 0.002*\"viruses\" + 0.002*\"4\" + 0.002*\"samples\" + 0.002*\"treatment\" + 0.002*\"human\" + 0.002*\"found\" + 0.002*\"+\" + 0.002*\"health\" + 0.002*\"6\" + 0.002*\"proteins\" + 0.002*\"reported\" + 0.001*\"observed\" + 0.001*\"test\" + 0.001*\"use\" + 0.001*\"table\" + 0.001*\"higher\" + 0.001*\"available\" + 0.001*\"p\" + 0.001*\"similar\" + 0.001*\"compared\" + 0.001*\"shown\" + 0.001*\"diseases\" + 0.001*\"performed\" + 0.001*\"including\" + 0.001*\"rna\" + 0.001*\"risk\"\n",
      "\n",
      "Topic #5: 0.006*\"cells\" + 0.005*\"1\" + 0.004*\"2\" + 0.004*\"viral\" + 0.003*\"patients\" + 0.003*\"infection\" + 0.003*\"5\" + 0.003*\"cell\" + 0.002*\"virus\" + 0.002*\"de\" + 0.002*\"disease\" + 0.002*\"4\" + 0.002*\"studies\" + 0.002*\"10\" + 0.002*\"clinical\" + 0.002*\"covid-19\" + 0.002*\"human\" + 0.002*\"protein\" + 0.002*\"3\" + 0.002*\"treatment\" + 0.002*\"found\" + 0.002*\"expression\" + 0.002*\"model\" + 0.002*\"t\" + 0.002*\"available\" + 0.002*\"including\" + 0.002*\"proteins\" + 0.002*\"reported\" + 0.002*\"based\" + 0.002*\"sars-cov-2\" + 0.002*\"viruses\" + 0.002*\"n\" + 0.002*\"results\" + 0.002*\"analysis\" + 0.002*\"days\" + 0.002*\"rna\" + 0.002*\"compared\" + 0.001*\"respiratory\" + 0.001*\"table\" + 0.001*\"control\" + 0.001*\"p\" + 0.001*\"c\" + 0.001*\"health\" + 0.001*\"described\" + 0.001*\"7\" + 0.001*\"performed\" + 0.001*\"b\" + 0.001*\"positive\" + 0.001*\"infected\" + 0.001*\"system\"\n",
      "\n",
      "Topic #6: 0.041*\"q\" + 0.005*\"virus\" + 0.004*\"1\" + 0.004*\"infection\" + 0.003*\"2\" + 0.003*\"cells\" + 0.003*\"viral\" + 0.003*\"patients\" + 0.002*\"3\" + 0.002*\"covid-19\" + 0.002*\"protein\" + 0.002*\"model\" + 0.002*\"studies\" + 0.002*\"cell\" + 0.002*\"results\" + 0.002*\"disease\" + 0.002*\"viruses\" + 0.002*\"rna\" + 0.002*\"c\" + 0.002*\"different\" + 0.002*\"analysis\" + 0.002*\"4\" + 0.002*\"available\" + 0.002*\"respiratory\" + 0.002*\"de\" + 0.002*\"5\" + 0.002*\"human\" + 0.002*\"infected\" + 0.002*\"10\" + 0.002*\"s\" + 0.002*\"table\" + 0.002*\"samples\" + 0.002*\"associated\" + 0.002*\"n\" + 0.001*\"clinical\" + 0.001*\"days\" + 0.001*\"showed\" + 0.001*\"display\" + 0.001*\"based\" + 0.001*\"0\" + 0.001*\"health\" + 0.001*\"infections\" + 0.001*\"influenza\" + 0.001*\"proteins\" + 0.001*\"t\" + 0.001*\"including\" + 0.001*\"rate\" + 0.001*\"case\" + 0.001*\"p\" + 0.001*\"7\"\n",
      "\n",
      "Topic #7: 0.006*\"cells\" + 0.005*\"1\" + 0.004*\"2\" + 0.004*\"patients\" + 0.003*\"infection\" + 0.003*\"virus\" + 0.003*\"viral\" + 0.003*\"protein\" + 0.003*\"3\" + 0.003*\"disease\" + 0.002*\"5\" + 0.002*\"health\" + 0.002*\"cell\" + 0.002*\"results\" + 0.002*\"c\" + 0.002*\"human\" + 0.002*\"analysis\" + 0.002*\"respiratory\" + 0.002*\"influenza\" + 0.002*\"rna\" + 0.002*\"reported\" + 0.002*\"model\" + 0.002*\"infected\" + 0.002*\"samples\" + 0.002*\"viruses\" + 0.002*\"different\" + 0.002*\"covid-19\" + 0.002*\"control\" + 0.002*\"expression\" + 0.002*\"de\" + 0.002*\"6\" + 0.002*\"infections\" + 0.002*\"rate\" + 0.002*\"t\" + 0.001*\"including\" + 0.001*\"significant\" + 0.001*\"q\" + 0.001*\"mice\" + 0.001*\"available\" + 0.001*\"response\" + 0.001*\"shown\" + 0.001*\"proteins\" + 0.001*\"group\" + 0.001*\"observed\" + 0.001*\"studies\" + 0.001*\"compared\" + 0.001*\"clinical\" + 0.001*\"4\" + 0.001*\"days\" + 0.001*\"gene\"\n",
      "\n",
      "Topic #8: 0.013*\"q\" + 0.006*\"2\" + 0.004*\"patients\" + 0.004*\"virus\" + 0.003*\"cells\" + 0.003*\"1\" + 0.002*\"3\" + 0.002*\"viral\" + 0.002*\"c\" + 0.002*\"different\" + 0.002*\"disease\" + 0.002*\"5\" + 0.002*\"rna\" + 0.002*\"clinical\" + 0.002*\"samples\" + 0.002*\"10\" + 0.002*\"rate\" + 0.002*\"available\" + 0.002*\"protein\" + 0.002*\"t\" + 0.002*\"p\" + 0.002*\"model\" + 0.002*\"group\" + 0.002*\"transmission\" + 0.002*\"results\" + 0.002*\"infection\" + 0.002*\"cell\" + 0.002*\"s\" + 0.002*\"shown\" + 0.002*\"reported\" + 0.002*\"covid-19\" + 0.002*\"4\" + 0.002*\"e\" + 0.002*\"control\" + 0.002*\"infected\" + 0.002*\"analysis\" + 0.002*\"table\" + 0.002*\"use\" + 0.001*\"studies\" + 0.001*\"observed\" + 0.001*\"infections\" + 0.001*\"de\" + 0.001*\"h\" + 0.001*\"treatment\" + 0.001*\"found\" + 0.001*\"system\" + 0.001*\"viruses\" + 0.001*\"including\" + 0.001*\"n\" + 0.001*\"2020\"\n",
      "\n",
      "Topic #9: 0.005*\"1\" + 0.004*\"virus\" + 0.003*\"covid-19\" + 0.003*\"cells\" + 0.003*\"2\" + 0.003*\"protein\" + 0.003*\"viral\" + 0.003*\"viruses\" + 0.002*\"model\" + 0.002*\"health\" + 0.002*\"disease\" + 0.002*\"de\" + 0.002*\"10\" + 0.002*\"c\" + 0.002*\"q\" + 0.002*\"cell\" + 0.002*\"found\" + 0.002*\"t\" + 0.002*\"control\" + 0.002*\"studies\" + 0.002*\"infection\" + 0.002*\"new\" + 0.002*\"rna\" + 0.002*\"patients\" + 0.002*\"available\" + 0.002*\"group\" + 0.002*\"4\" + 0.002*\"respiratory\" + 0.002*\"human\" + 0.002*\"transmission\" + 0.002*\"table\" + 0.002*\"china\" + 0.002*\"reported\" + 0.002*\"3\" + 0.002*\"proteins\" + 0.002*\"infected\" + 0.002*\"different\" + 0.002*\"analysis\" + 0.001*\"n\" + 0.001*\"rate\" + 0.001*\"s\" + 0.001*\"compared\" + 0.001*\"observed\" + 0.001*\"samples\" + 0.001*\"p\" + 0.001*\"mice\" + 0.001*\"use\" + 0.001*\"epidemic\" + 0.001*\"results\" + 0.001*\"5\"\n"
     ]
    }
   ],
   "source": [
    "for idx in range(NUM_TOPICS):\n",
    "    print(\"\\nTopic #%s:\" % idx, lda_model.print_topic(idx, 50))"
   ]
  },
  {
   "cell_type": "code",
   "execution_count": 13,
   "metadata": {},
   "outputs": [],
   "source": [
    "papertopic={}\n",
    "for i,t in enumerate(tokens_data):\n",
    "    result=lda_model[dictionary.doc2bow(tokens_data[i])]\n",
    "    maxresult=result[0][1]\n",
    "    for j in result:\n",
    "        if j[1]>maxresult:\n",
    "            maxresult=j[1]\n",
    "    topic=[j[0] for j in result if j[1]==maxresult][0]\n",
    "    papertopic[str(i)]=topic"
   ]
  },
  {
   "cell_type": "code",
   "execution_count": 14,
   "metadata": {},
   "outputs": [
    {
     "data": {
      "text/plain": [
       "<matplotlib.axes._subplots.AxesSubplot at 0x7f8e9c5dc190>"
      ]
     },
     "execution_count": 14,
     "metadata": {},
     "output_type": "execute_result"
    },
    {
     "data": {
      "image/png": "[encoded data removed]",
      "text/plain": [
       "<Figure size 1440x360 with 1 Axes>"
      ]
     },
     "metadata": {
      "needs_background": "light"
     },
     "output_type": "display_data"
    }
   ],
   "source": [
    "freq=[j for j in papertopic.values()]\n",
    "import seaborn as sns\n",
    "import matplotlib.pyplot as plt\n",
    "plt.figure(figsize=(20,5))\n",
    "sns.countplot(freq)"
   ]
  },
  {
   "cell_type": "code",
   "execution_count": 15,
   "metadata": {},
   "outputs": [],
   "source": [
    "def extract_topic(p,topic_num):\n",
    "    topic=[]\n",
    "    for i in p.keys():\n",
    "        if p[i]==topic_num:\n",
    "            topic.append(int(i))\n",
    "    return topic\n",
    "topic0=extract_topic(papertopic,0)\n",
    "topic1=extract_topic(papertopic,1)\n",
    "topic2=extract_topic(papertopic,2)\n",
    "topic3=extract_topic(papertopic,3)\n",
    "topic4=extract_topic(papertopic,4)\n",
    "topic5=extract_topic(papertopic,5)\n",
    "topic6=extract_topic(papertopic,6)\n",
    "topic7=extract_topic(papertopic,7)\n",
    "topic8=extract_topic(papertopic,8)\n",
    "topic9=extract_topic(papertopic,9)"
   ]
  },
  {
   "cell_type": "code",
   "execution_count": 19,
   "metadata": {},
   "outputs": [
    {
     "name": "stdout",
     "output_type": "stream",
     "text": [
      "Most Common words: 0.008*\"cells\" + 0.004*\"1\" + 0.004*\"t\" + 0.004*\"2\" + 0.004*\"cell\" + 0.003*\"infection\" + 0.003*\"c\" + 0.003*\"virus\" + 0.003*\"e\" + 0.003*\"5\" + 0.003*\"3\" + 0.002*\"patients\" + 0.002*\"disease\" + 0.002*\"model\" + 0.002*\"protein\" + 0.002*\"10\" + 0.002*\"4\" + 0.002*\"n\" + 0.002*\"r\" + 0.002*\"different\" + 0.002*\"s\" + 0.002*\"p\" + 0.002*\"human\" + 0.002*\"table\" + 0.002*\"system\" + 0.002*\"results\" + 0.002*\"analysis\" + 0.002*\"treatment\" + 0.002*\"covid-19\" + 0.002*\"proteins\" + 0.002*\"viral\" + 0.002*\"expression\" + 0.002*\"infected\" + 0.002*\"health\" + 0.001*\"reported\" + 0.001*\"d\" + 0.001*\"including\" + 0.001*\"available\" + 0.001*\"q\" + 0.001*\"h\" + 0.001*\"o\" + 0.001*\"response\" + 0.001*\"observed\" + 0.001*\"levels\" + 0.001*\"6\" + 0.001*\"control\" + 0.001*\"influenza\" + 0.001*\"days\" + 0.001*\"shown\" + 0.001*\"showed\"\n",
      "\n",
      "Paper Catogarized in this topic\n",
      "TWIRLS, an automated topic-wise inference method based on massive literature, suggests a possible mechanism via ACE2 for the pathological changes in the human host after coronavirus infection\n",
      "The impact of regular school closure on seasonal influenza epidemics: a data-driven spatial transmission model for Belgium\n",
      "Estimation of the final size of the second phase of the coronavirus COVID 19 epidemic by the logistic model\n",
      "Self-assembly of the RZZ complex into filaments drives kinetochore expansion in the absence of microtubule attachment\n",
      "René Glawion (b;c) , Bodo Plachter (a;d) ; Constantin Weiser (a;c) and Klaus Wälde (a;c;e)\n",
      "Title: Site-specific N-glycosylation Characterization of Recombinant SARS-CoV-2 Spike Proteins\n",
      "Epigenetic dysregulation of ACE2 and interferon-regulated genes might suggest increased COVID-19 susceptibility and severity in lupus patients\n",
      "Artesunate interacts with Vitamin D receptor to reverse mouse model of sepsis-induced immunosuppression via enhancing autophagy Short running title: Artesunate reverses sepsis induced immunosuppression\n",
      "2\n",
      "Mechanistic modeling of the SARS-CoV-2 disease map\n",
      "The reproductive number R 0 of COVID-19 based on estimate of a statistical time delay dynamical system\n",
      "p53 is not necessary for DUX4 pathology\n",
      "Identification of potential vaccine candidates against SARS-CoV-2, A step forward to fight novel coronavirus 2019-nCoV: A Reverse Vaccinology Approach\n",
      "Understanding the B and T cells epitopes of spike protein of severe respiratory syndrome 1 coronavirus-2: A computational way to predict the immunogens\n",
      "Replication of MERS and SARS coronaviruses in bat cells offers insights to their 1 ancestral origins 2 3\n",
      "Surveillance by age-class and prefecture for emerging infectious febrile diseases with respiratory symptoms, including COVID-19\n",
      "TMPRSS2 and furin are both essential for proteolytic activation and spread of SARS- 1 CoV-2 in human airway epithelial cells and provide promising drug targets 2 3 4\n",
      "DNA-scaffolded biomaterials enable modular and tunable control of cell-based cancer immunotherapies\n",
      "A unifying structural and functional model of the coronavirus replication Short title: Structure and function of the coronavirus replication organelle 4 5\n",
      "Expression of 9-O-and 7,9-O-acetyl modified sialic acid in cells and their effects 5 on influenza viruses 6 7\n",
      "Reversal of Infected Host Gene Expression Identifies Repurposed Drug Candidates for COVID-19\n",
      "Tocilizumab treatment in severe COVID-19 patients attenuates the\n",
      "Immune Cell Profiling of COVID-19 Patients in the Recovery Stage by Single-Cell Sequencing\n",
      "Scirpy: A Scanpy extension for analyzing single-cell T-cell receptor sequencing data\n",
      "The immune vulnerability landscape of the 2019 Novel Coronavirus, SARS- CoV-2\n",
      "Characterization of anti-viral immunity in recovered individuals infected by SARS-CoV-2\n",
      "\n",
      "Preliminary identification of potential vaccine targets for the COVID-19 coronavirus (SARS-CoV-2) based on SARS- CoV immunological studies\n",
      "Genetic Profiles in Pharmacogenes Indicate Personalized Drug Therapy for COVID-19 Running title: COVID-19 pharmacogenetics\n",
      "Comparative in vitro transcriptomic analyses of COVID-19 candidate therapy hydroxychloroquine suggest limited immunomodulatory evidence of SARS-CoV-2 host response genes. AUTHORS\n",
      "A B\n",
      "Tissue-resident CD8 + T cells drive age-associated chronic lung sequelae following viral 1 pneumonia 2 3\n",
      "The Novel Severe Acute Respiratory Syndrome Coronavirus 2 (SARS-CoV-2) Directly Decimates Human Spleens and Lymph Nodes Running title: SARS-CoV-2 infects human spleens and lymph nodes\n",
      "COVID-19 pandemic: Power law spread and flattening of the curve\n",
      "GraphDTA: Predicting drug-target binding affinity with graph neural networks\n",
      "Single-cell atlas of a non-human primate reveals new pathogenic mechanisms of COVID-19 2 3\n",
      "\n",
      "Establishment of primary transgenic human airway 1 epithelial cell cultures to study respiratory virus - 2 host interactions 3\n",
      "Solubility-Weighted Index: fast and accurate prediction of protein solubility\n",
      "Single cell RNA sequencing of 13 human tissues identify cell types and receptors of human coronaviruses\n",
      "Identification of antiviral drug candidates against SARS-CoV-2 from FDA-approved drugs\n",
      "The origin and underlying driving forces of the SARS-CoV-2 outbreak Running Title: Evolution at the early stage of SARS-CoV-2 spread\n",
      "Complex dynamics in an SIS epidemic model induced by nonlinear incidence\n",
      "Molecular mechanism of action of repurposed drugs and traditional Chinese medicine used for the treatment of patients infected with COVID-19: A systematic review\n",
      "Modeling basic reproductive number R 0\n",
      "RAPID SEROLOGICAL TESTS HAVE A ROLE IN ASYMPTOMATIC HEALTH WORKERS COVID-19 SCREENING\n",
      "Therapeutic Management of COVID-19 Patients: A systematic review Corresponding Author\n",
      "The BathRC model: a method to estimate flow restrictor size for dual ventilation of dissimilar patients\n",
      "Cellular senescence limits acute lung injury induced by mechanical ventilation\n",
      "\n",
      "JAK1 inhibition blocks lethal sterile immune responses: implications for COVID-19 therapy\n",
      "Rapid community-driven development of a SARS-CoV-2 tissue simulator\n",
      "Interim evaluation of emergency declaration in Japan in the first week of the COVID-19 outbreak\n",
      "Designing Effective small interfering RNA for Post-Transcriptional Silencing of Human GREM1: A Comprehensive Bioinformatics Approach\n",
      "Nowcasting by Bayesian Smoothing: A flexible, generalizable model for real-time epidemic tracking\n",
      "Restoration of leukomonocyte counts is associated with viral 1 clearance in COVID-19 hospitalized patients 2 3\n",
      "Effectiveness of quarantine measure on transmission dynamics of COVID-19 in Hong Kong\n",
      "Accurate prediction of human essential genes using only nucleotide composition and association information\n",
      "\n",
      "Mathematics 2020, 8, x; doi: FOR PEER REVIEW\n",
      "Novel Function of Bluetongue Virus NS3 Protein in Regulation of the MAPK/ERK Signaling Pathway 2 3\n",
      "Targeting the catecholamine-cytokine axis to prevent SARS-CoV-2 cytokine storm syndrome\n",
      "ACE2 and the cellular protease TMPRSS2 for entry into target cells 2 3\n",
      "\"Amantadine disrupts lysosomal gene expression; potential therapy for COVID19\"\n",
      "The RZZ complex integrates spindle checkpoint maintenance with dynamic expansion of unattached kinetochores\n",
      "Persistent SARS-CoV-2 presence is companied with defects in adaptive immune system in non-severe COVID-19 patients\n",
      "\n",
      "Blood single cell immune profiling reveals the interferon-MAPK pathway mediated adaptive immune response for COVID-19\n",
      "Liver injury is associated with severe Coronavirus disease 2019 (COVID-19) infection: a systematic review and meta-analysis of retrospective studies\n",
      "A molecular cell atlas of the human lung from single cell RNA sequencing\n",
      "\n",
      "Nelfinavir inhibits replication of severe acute respiratory syndrome coronavirus 2 in vitro\n",
      "The Infectious Bronchitis Virus Coronavirus Envelope Protein Alters Golgi pH to Protect Spike Protein and Promote Release of Infectious Virus\n",
      "Interferon-α2b treatment for COVID-19\n",
      "Monocyte-derived Prostaglandin E2 inhibits antigen-specific cutaneous immunity during ageing 2\n",
      "Pseudomonas aeruginosa lectin LecB impairs keratinocyte fitness by abrogating growth factor signalling\n",
      "The time scale of asymptomatic transmission affects estimates of epidemic potential in the COVID-19 outbreak\n",
      "Computational vaccinology approach: Designing an efficient multi-epitope peptide vaccine against Cryptococcus neoformans var. grubii's heat shock 70KDa protein\n",
      "Alphavirus nsP3 ADP-ribosylhydrolase Activity Disrupts Stress Granule Formation\n",
      "Re-analysis of SARS-CoV-2 infected host cell proteomics time-course data by impact pathway analysis and network analysis. A potential link with inflammatory response\n",
      "Deep sequencing of primary human lung epithelial cells challenged with H5N1 influenza virus reveals 1 a proviral role for CEACAM1 2 3\n",
      "Planning horizon affects prophylactic decision-making and epidemic dynamics\n",
      "Supplementary Information An eco-epidemiological study of Morbilli-related paramyxovirus infection in Madagascar bats reveals host-switching as the dominant macro-evolutionary mechanism\n",
      "immunity to pathogens taught by specialized human dendritic cell subsets\n",
      "MINI REVIEW Function of the Deubiquitinating Enzyme USP46 in the Nervous System and Its Regulation by WD40-Repeat Proteins\n",
      "Evaluation of the tuberculosis programme in Ningxia Hui Autonomous region, the People's Republic of China: a retrospective case study\n",
      "GPI-anchored single chain Fv -an effective way to capture transiently-exposed neutralization epitopes on HIV-1 envelope spike\n",
      "Transmissible gastroenteritis virus infection decreases arginine uptake by downregulating CAT-1 expression\n",
      "Molecular Sciences Monocytes and Macrophages as Viral Targets and Reservoirs\n",
      "How Flaviviruses Activate and Suppress the Interferon Response\n",
      "Involvement of the different lung compartments in the pathogenesis of pH1N1 influenza virus infection in ferrets\n",
      "Heterogeneity and plasticity of porcine alveolar macrophage and pulmonary interstitial macrophage isolated from healthy pigs in vitro\n",
      "Experimental infection of dromedaries with Middle East respiratory syndrome-Coronavirus is accompanied by massive ciliary loss and depletion of the cell surface receptor dipeptidyl peptidase 4 OPEN\n",
      "Entry of Scotophilus Bat Coronavirus-512 and Severe Acute Respiratory Syndrome Coronavirus in Human and Multiple Animal Cells\n",
      "Original Article Screening for Antiviral Activities of Isolated Compounds from Essential Oils\n",
      "Interferon-γ Inhibits Ebola Virus Infection\n",
      "Unique Epitopes Recognized by Antibodies Induced in Chikungunya Virus-Infected Non-Human Primates: Implications for the Study of Immunopathology and Vaccine Development\n",
      "Classification of viral zoonosis through receptor pattern analysis\n",
      "Ribonuclease L mediates the cell-lethal phenotype of double-stranded RNA editing enzyme ADAR1 deficiency in a human cell line\n",
      "Contribution of the Purinergic Receptor P2X7 to Development of Lung Immunopathology during Influenza Virus Infection\n",
      "The differentiated airway epithelium infected by influenza viruses maintains the barrier function despite a dramatic loss of ciliated cells OPEN\n",
      "Open Access CD147 overexpression on synoviocytes in rheumatoid arthritis enhances matrix metalloproteinase production and invasiveness of synoviocytes\n",
      "Discovery of an antibody for pan- ebolavirus therapy OPEN\n",
      "Measles infection causing Bacillus Calmette-Guérin reactivation: a case report\n",
      "The Capsid Protein VP1 of Coxsackievirus B Induces Cell Cycle Arrest by Up-Regulating Heat Shock Protein 70\n",
      "Increasing the translation of mouse models of MERS coronavirus pathogenesis through kinetic hematological analysis\n",
      "The Complement Receptors C3aR and C5aR Are a New Class of Immune Checkpoint Receptor in Cancer Immunotherapy\n",
      "Techniques to Study Antigen-Specific B Cell Responses\n",
      "Recombinant vector vaccine evolution\n",
      "Heparan Sulfate Proteoglycans and Viral Attachment: True Receptors or Adaptation Bias?\n",
      "The Nucleoprotein and Phosphoprotein of Peste des Petits Ruminants Virus Inhibit Interferons Signaling by Blocking the JAK-STAT Pathway\n",
      "MERS Coronavirus: An Emerging Zoonotic Virus\n",
      "A Comprehensive Review of Autophagy and Its Various Roles in Infectious, Non-Infectious, and Lifestyle Diseases: Current Knowledge and Prospects for Disease Prevention, Novel Drug Design, and Therapy\n",
      "Porcine transmissible gastroenteritis virus inhibits NF-κB activity via nonstructural protein 3 to evade host immune system\n",
      "The use and reporting of airline passenger data for infectious disease modelling: a systematic review\n",
      "Central Nervous System Inflammatory Aggregates in the Theiler's Virus Model of Progressive Multiple Sclerosis\n",
      "Recent Advances in the Vaccine Development Against Middle East Respiratory Syndrome-Coronavirus\n",
      "Transcriptomic analysis of immune response to bacterial lipopolysaccharide in zebra finch (Taeniopygia guttata)\n",
      "Molecular detection of viruses in Kenyan bats and discovery of novel astroviruses, caliciviruses and rotaviruses\n",
      "A novel sub-epidemic modeling framework for short-term forecasting epidemic waves\n",
      "Influenza Virus-Induced Robust Expression of SOCS3 Contributes to Excessive Production of IL-6\n",
      "Immuno-modulating properties of Tulathromycin in porcine monocyte-derived macrophages infected with porcine reproductive and respiratory syndrome virus\n",
      "Evolution and containment of transmissible recombinant vector vaccines\n",
      "Galloyl-Hexahydroxydiphenoyl (HHDP)-Glucose Isolated From Punica granatum L. Leaves Protects Against Lipopolysaccharide (LPS)-Induced Acute Lung Injury in BALB/c Mice\n",
      "Interferon-Induced Protein 44 Interacts with Cellular FK506-Binding Protein 5, Negatively Regulates Host Antiviral Responses, and Supports Virus Replication\n",
      "Interplay between Intrinsic and Innate Immunity during HIV Infection\n",
      "TRIM21—From Intracellular Immunity to Therapy\n",
      "Human Antimicrobial Peptides as Therapeutics for Viral Infections\n",
      "Establishment of Primary Transgenic Human Airway Epithelial Cell Cultures to Study Respiratory Virus–Host Interactions\n",
      "Production of Recombinant EAV with Tagged Structural Protein Gp3 to Study Artervirus Minor Protein Localization in Infected Cells\n",
      "Camelid VHHs Fused to Human Fc Fragments Provide Long Term Protection Against Botulinum Neurotoxin A in Mice\n",
      "Inhibitory Effects of Antiviral Drug Candidates on Canine Parvovirus in F81 cells\n",
      "The Molecular Aspect of Antitumor Effects of Protease Inhibitor Nafamostat Mesylate and Its Role in Potential Clinical Applications\n",
      "Co-delivery of glycyrrhizin and doxorubicin by alginate nanogel particles attenuates the activation of macrophage and enhances the therapeutic efficacy for hepatocellular carcinoma\n",
      "Surfactant Proteins A and D: Trimerized Innate Immunity Proteins with an Affinity for Viral Fusion Proteins\n",
      "Aminopeptidase N-null neonatal piglets are protected from transmissible gastroenteritis virus but not porcine epidemic diarrhea virus\n",
      "Detecting influenza and emerging avian influenza virus by influenza and pneumonia surveillance systems in a large city in China, 2005 to 2016\n",
      "The Redox Role of G6PD in Cell Growth, Cell Death, and Cancer\n",
      "Allele-Specific Expression of CD4+ T Cells in Response to Marek’s Disease Virus Infection\n",
      "Transcriptome analysis of PK-15 cells in innate immune response to porcine deltacoronavirus infection\n",
      "Human Monoclonal Antibodies as Adjuvant Treatment of Chronic Hepatitis B Virus Infection\n",
      "The Underlying Mechanism of 3-Hydroxyphthalic Anhydride-Modified Bovine Beta-Lactoglobulin to Block Human Papillomavirus Entry Into the Host Cell\n",
      "A Peptide-Based Virus Inactivator Protects Male Mice Against Zika Virus-Induced Damage of Testicular Tissue\n",
      "Zinc Chelation Specifically Inhibits Early Stages of Dengue Virus Replication by Activation of NF-κB and Induction of Antiviral Response in Epithelial Cells\n",
      "Disparate Entry of Adenoviruses Dictates Differential Innate Immune Responses on the Ocular Surface\n",
      "Vδ2 T-Cells Kill ZIKV-Infected Cells by NKG2D-Mediated Cytotoxicity\n",
      "Fusogenicity of the Ghana Virus (Henipavirus: Ghanaian bat henipavirus) Fusion Protein is Controlled by the Cytoplasmic Domain of the Attachment Glycoprotein\n",
      "To Go or Stay: The Development, Benefit, and Detriment of Tissue-Resident Memory CD8 T Cells during Central Nervous System Viral Infections\n",
      "The Proteolytic Regulation of Virus Cell Entry by Furin and Other Proprotein Convertases\n",
      "Tick-borne encephalitis virus inhibits rRNA synthesis and host protein production in human cells of neural origin\n",
      "CD206+ tumor-associated macrophages promote proliferation and invasion in oral squamous cell carcinoma via EGF production\n",
      "Antiviral Effect of Lithium Chloride and Diammonium Glycyrrhizinate on Porcine Deltacoronavirus In Vitro\n",
      "Moving from Empirical to Rational Vaccine Design in the ‘Omics’ Era\n",
      "Respiratory syncytial virus nonstructural proteins 1 and 2: Exceptional disrupters of innate immune responses\n",
      "Improving immunological insights into the ferret model of human viral infectious disease\n",
      "Novel Antiretroviral Structures from Marine Organisms\n",
      "The interferon stimulated gene 20 protein (ISG20) is an innate defense antiviral factor that discriminates self versus non-self translation\n",
      "IFN-Lambda 3 Mediates Antiviral Protection Against Porcine Epidemic Diarrhea Virus by Inducing a Distinct Antiviral Transcript Profile in Porcine Intestinal Epithelia\n",
      "In silico/In vivo analysis of high-risk papillomavirus L1 and L2 conserved sequences for development of cross-subtype prophylactic vaccine\n",
      "A structure-based rationale for sialic acid independent host-cell entry of Sosuga virus\n",
      "Quantitative Proteomics Reveal Peroxiredoxin Perturbation Upon Persistent Lymphocytic Choriomeningitis Virus Infection in Human Cells\n",
      "Alphaherpesvirus infection of mice primes PNS neurons to an inflammatory state regulated by TLR2 and type I IFN signaling\n",
      "A bibliometric analysis of IL-35 research from 2009 to 2018\n",
      "Heterogeneity and plasticity of porcine alveolar macrophage and pulmonary interstitial macrophage isolated from healthy pigs in vitro\n",
      "Immunostimulants in respiratory diseases: focus on Pidotimod\n",
      "Antiviral Activity Against Infectious Bronchitis Virus and Bioactive Components of Hypericum perforatum L.\n",
      "Seroprevalence of Middle East respiratory syndrome coronavirus\n",
      "(MERS-CoV) in public health workers responding to a MERS outbreak in Seoul,\n",
      "Republic of Korea, in 2015\n",
      "The S2 Subunit of QX-type Infectious Bronchitis Coronavirus Spike Protein Is an Essential Determinant of Neurotropism\n",
      "Viral Innate Immune Evasion and the Pathogenesis of Emerging RNA Virus Infections\n",
      "Novel Antiviral Activities of Obatoclax, Emetine, Niclosamide, Brequinar, and Homoharringtonine\n",
      "The metaRbolomics Toolbox in Bioconductor and beyond\n",
      "Griffithsin, a Highly Potent Broad-Spectrum Antiviral Lectin from Red Algae: From Discovery to Clinical Application\n",
      "Recent Advances in Nanovaccines Using Biomimetic Immunomodulatory Materials\n",
      "MHC class I allele diversity in cynomolgus macaques of Vietnamese origin\n",
      "A Multicompartment SIS Stochastic Model with Zonal Ventilation for the Spread of Nosocomial Infections: Detection, Outbreak Management, and Infection Control\n",
      "Activation of RNase L in Egyptian Rousette Bat-Derived RoNi/7 Cells Is Dependent Primarily on OAS3 and Independent of MAVS Signaling\n",
      "Pseudomonas aeruginosa lectin LecB impairs keratinocyte fitness by abrogating growth factor signalling\n",
      "Microglia Are Essential to Protective Antiviral Immunity: Lessons From Mouse Models of Viral Encephalitis\n",
      "Synthesis of N-methyl-D-ribopyranuronamide nucleosides\n",
      "DEVELOPMENT OF VACCINES AND PASSIVE IMMUNOTHERAPY AGAINST SARS CORONAVIRUS USING MOUSE AND SCID-PBL/hu MOUSE MODELS\n",
      "The immunoregulatory and allergy-associated cytokines in the aetiology of the otitis media with effusion\n",
      "SARS coronavirus papain-like protease inhibits the type I interferon signaling pathway through interaction with the STING-TRAF3- TBK1 complex\n",
      "\n",
      "Inflammation and primary demyelination induced by the intraspinal injection of lipopolysaccharide\n",
      "*\n",
      "Diffusion, Strategic Interaction, and Social Structure\n",
      "Alphavirus Nonstructural Proteases and Their Inhibitors\n",
      "Journal Pre-proof Nurturing the forest of oral and maxillofacial surgery training\n",
      "Maternal T-cell engraftment impedes with diagnosis of a SCID-ADA patient\n",
      "Sequential nearest-neighbor effects on computed 13 C a chemical shifts\n",
      "Analysis of codon usage in bovine viral diarrhea virus\n",
      "Faculty development program for general medicine in Taiwan: Past, present, and future\n",
      "A differential proteome in tumors suppressed by an adenovirus- based skin patch vaccine encoding human carcinoembryonic antigen\n",
      "THE REGULATION AND MATURATION OF ANTIVIRAL IMMUNE RESPONSES\n",
      "Abnormal regulation of TSG101 in mice with spongiform neurodegeneration\n",
      "CXCL12-Induced Monocyte-Endothelial Interactions Promote Lymphocyte Transmigration Across an in Vitro Blood-Brain Barrier\n",
      "Chapter 2 Preparation of Recombinant Viral Glycoproteins for Novel and Therapeutic Antibody Discovery\n",
      "Propagation of Adenoviral Vectors: Use of PER.C6 Cells\n",
      "\n",
      "B cell characterization and reactivity analysis in multiple sclerosis\n",
      "Journal Pre-proof Does Hydroxychloroquine Combat COVID-19? A Timeline of Evidence Does Hydroxychloroquine Combat COVID-19? A Timeline of Evidence\n",
      "Anti-Dengue-Virus Activity and Structure-Activity Relationship Studies of Lycorine Derivatives\n",
      "Feature Review Trends in Immunology\n",
      "Coronaviruses and arteriviruses display striking differences in their cyclophilin A-dependence during replication in cell culture\n",
      "Feline CD 4 molecules expressed on feline non-lymphoid cell lines are not enough for productive infection of highly lymphotropic feline immunodeficiency virus isolates Brief R e p o r t\n",
      "Harnessing T-Cell Immunity to Target Brain Tumors\n",
      "Cell Stem Cell Review The Cellular and Physiological Basis for Lung Repair and Regeneration: Past, Present, and Future\n",
      "\n",
      "SELECTION OF AND EVASION FROM CYTOTOXIC T CELL RESPONSES IN THE CENTRAL NERVOUS SYSTEM\n",
      "Triggering unfolded protein response by 2-Deoxy-D-glucose inhibits porcine epidemic diarrhea virus propagation\n",
      "Efficient priming of CD4 T cells by Langerin-expressing dendritic cells targeted with porcine epidemic diarrhea virus spike protein domains in pigs\n",
      "Porcine epidemic diarrhea virus infections induce apoptosis in Vero cells via a reactive oxygen species (ROS)/p53, but not p38 MAPK and SAPK/JNK signalling pathways\n",
      "Models of cytokine dynamics in the inflammatory response of viral zoonotic infectious diseases\n",
      "Monoclonal antibodies to a virulent strain of transmissible gastroenteritis virus: comparison of reactivity with virulent and attenuated virus\n",
      "Disasters from 1948 to 2015 in Korea and Power-Law Distribution\n",
      "A natural tetranortriterpenoid with immunomodulating properties as a potential anti-HSV agent\n",
      "Involvement of a joker mutation in a polymerase-independent lethal mutagenesis escape mechanism\n",
      "In vitro assessment of the feline cell-mediated immune response against feline panleukopeniavirus, calicivirus and felid herpesvirus 1 using 5-bromo-2 -deoxyuridine labeling\n",
      "Supporting Information Concise Synthesis of Linderaspirone A and Bi-linderone\n",
      "Griffithsin binds to the glycosylated proteins (E and prM) of Japanese encephalitis virus and inhibit its infection\n",
      "Analysis of Overlapping T-and B-Cell Antigenic Sites on Rubella Virus E1 Envelope Protein Influence of HLA-DR4 Polymorphism on T-Cell Clonal Recognition\n",
      "Contribution of the porcine aminopeptidase N (CD13) receptor density to porcine epidemic diarrhea virus infection\n",
      "Immunosenescence Modulation by Vaccination 116\n",
      "Archives of Oto-Rhino-Laryngology Coronavirus-associated Antibodies in Nasopharyngeal Carcinoma and Infectious Mononucleosis*\n",
      "Targeting Intramembrane Protein-Protein Interactions: Novel Therapeutic Strategy of Millions Years Old\n",
      "SARS-CoV-2 Cell Entry Depends on ACE2 and TMPRSS2 and Is Blocked by a Clinically Proven Protease Inhibitor Article SARS-CoV-2 Cell Entry Depends on ACE2 and TMPRSS2 and Is Blocked by a Clinically Proven Protease Inhibitor\n",
      "Rotavirus vaccine efficacy: current status and areas for improvement\n",
      "rVSVΔG-ZEBOV-GP (also designated V920) recombinant vesicular stomatitis virus pseudotyped with Ebola Zaire Glycoprotein: Standardized template with key considerations for a risk/benefit assessment\n",
      "Furin‐mediated protein processing in infectious diseases and cancer\n",
      "IL-27 promotes the expansion of self-renewing CD8+ T cells in persistent viral infection\n",
      "Tumor-Treating Fields Induce RAW264.7 Macrophage Activation Via NK-κB/MAPK Signaling Pathways\n",
      "Diagnosis and management of a case of retroperitoneal eosinophilic\n",
      "sclerosing fibroplasia in a cat\n",
      "Functional aspects, phenotypic heterogeneity, and tissue immune response of macrophages in infectious diseases\n",
      "A60 Revealing the evolution of virulence in RNA viruses\n",
      "A48 Identification and full-genome characterization of Alpha- and Beta-Coronaviruses viruses from bats in Italy\n",
      "A52 MERS coronaviruses from camels in Africa exhibit region-dependent genetic diversity\n",
      "A53 MERS-CoV in East African dromedary camels\n",
      "A54 Genomic analysis of camel-HKU23 in Nigeria dromedary camels reveals strain-specific cross-species recombination\n",
      "The impact of global budgeting in Taiwan on inpatients with unexplained fever\n",
      "The perceptions of natural compounds against dipeptidyl peptidase 4\n",
      "in diabetes: from in silico to in\n",
      "vivo\n",
      "Novel Therapeutic Approaches Targeting the Renin-Angiotensin System and Associated Peptides in Hypertension and Heart Failure\n",
      "Structural and functional analyses reveal promiscuous and species specific use of ephrin receptors by Cedar virus\n",
      "2002. BioFire® Filmarray® Pneumonia Panel: A Powerful Rapid Diagnostic Test for Antimicrobial Stewardship\n",
      "1756. Role of Human bocavirus Respiratory Tract Infection in Hematopoietic Cell Transplant Recipients\n",
      "1791. Novel Metabolomics Approach for the Diagnosis of Respiratory Viruses Directly from Nasopharyngeal Specimens\n",
      "2786. The Role of Respiratory Panel PCR in Decreasing Antibiotic Exposure in Patients Diagnosed With a Respiratory Viral Infection\n",
      "2792. Association of Body Mass Index with Rates of Hospitalization in Patients with Respiratory Viral Infections—Puerto Rico, 2012–2018\n",
      "1675. Implementation of Electronic Travel History Screening at an Urban Medical Center\n",
      "2324. Respiratory Viral Coinfection in a Birth Cohort of Infants in Rural Nepal\n",
      "2626. Rhinovirus in Children Presenting to the Emergency Department: Role of Viral Load in Disease Severity and Co-Infections\n",
      "1642. Comparing Viral Respiratory Infections Between Children Who Do and Do Not Attend Child Care\n",
      "2448. Clinical Presentation and Outcomes of Long-Term Care Residents with Coronavirus Respiratory Infection: A Retrospective Cohort Study\n",
      "More than efficacy revealed by single-cell analysis of antiviral therapeutics\n",
      "The FDA-Approved Oral Drug Nitazoxanide Amplifies Host Antiviral Responses and Inhibits Ebola Virus\n",
      "Impaired inflammasome activation and bacterial clearance in G6PD deficiency due to defective NOX/p38 MAPK/AP-1 redox signaling\n",
      "Porcine IL-12 plasmid as an adjuvant improves the cellular and humoral immune\n",
      "responses of DNA vaccine targeting transmissible gastroenteritis virus spike gene in a\n",
      "mouse model\n",
      "Atti del 52° Congresso Nazionale\n",
      "Household preparedness for emergency events: a cross-sectional survey on residents in four regions of China\n",
      "Fill the gap between traditional and new era: The medical educational reform in Taiwan\n",
      "Tumor‐associated macrophages secrete CC‐chemokine ligand 2 and induce tamoxifen resistance by activating PI3K/Akt/mTOR in breast cancer\n",
      "Phenobarbital-induced anticonvulsant hypersensitivity syndrome in a\n",
      "cat\n",
      "Metformin Inhibits Proliferation of Human Thyroid Cancer TPC-1 Cells by Decreasing LRP2 to Suppress the JNK Pathway\n",
      "Assessment of hemagglutination activity of porcine deltacoronavirus\n",
      "The 10th Anniversary of Asia Pacific Allergy\n",
      "\n",
      "Suspension culture of Vero cells for the production of adenovirus type 5\n",
      "The importance of caveolins and caveolae to dermatology: Lessons from the caves and beyond\n",
      "Role of brain renin angiotensin system in neurodegeneration: An update\n",
      "Immunoinformatics and Vaccine Development: An Overview\n",
      "Regulation of Nucleotide Metabolism and Germline Proliferation in Response to Nucleotide Imbalance and Genotoxic Stresses by EndoU Nuclease\n",
      "The coronavirus 2019-nCoV epidemic: Is hindsight 20/20?\n",
      "Syndromic Surveillance System for MERS-CoV as New Early Warning and Identification Approach [Corrigendum]\n",
      "Prediction of fatal adverse prognosis in patients with fever-related diseases based on machine learning: A retrospective study\n",
      "Deep Learning-Based Method of Diagnosing Hyperlipidemia and Providing Diagnostic Markers Automatically\n",
      "Two‐pore channels regulate Tat endolysosome escape and Tat‐mediated HIV‐1 LTR transactivation\n",
      "Cellular membrane cholesterol is required for porcine reproductive and respiratory syndrome virus entry and release in MARC-145 cells\n",
      "Mutational analysis of the SDD sequence motif of a PRRSV RNA-dependent RNA polymerase\n",
      "Some latest achievements in immunology research\n",
      "Plasma biomarker screening for liver fibrosis with the N-terminal isotope tagging strategy\n",
      "Synthetic biology: From the first synthetic cell to see its current situation and future development\n",
      "Recent progress of immunology research in China\n",
      "Design and immunogenicity assessment of HIV-1 virus-like particles as a candidate vaccine\n",
      "Viral proteomics: The emerging cutting-edge of virus research\n",
      "Vitamin D Receptor Signaling and Cancer\n",
      "Nomogram for the Individualized Prediction of Survival Among Patients with H7N9 Infection\n",
      "Management of Adenoviral Keratoconjunctivitis: Challenges and Solutions\n",
      "More awareness is needed for severe acute respiratory syndrome coronavirus 2019 transmission through exhaled air during non-invasive respiratory support: experience from China\n",
      "Some research advances of immune mechanism during infection in China\n",
      "Gains from the Novel Corona Virus\n",
      "Porcine Epidemic Diarrhoea Virus Induces Cell-cycle Arrest through the DNA Damage-signalling Pathway\n",
      "PCR Array Profiling of Antiviral Genes in Human Embryonic Kidney Cells Expressing Human Coronavirus OC43 Structural and Accessory Proteins\n",
      "Coronavirus Infection in Hematopoietic Stem Cell Transplant Recipients\n",
      "Preventing Respiratory Viruses in the Neonatal ICU\n",
      "Use of Unannounced “Mystery Patient Drills” to Assess Hospital Emergency Department Preparedness for Communicable Diseases of Public Health Concern in New York City, 2016\n",
      "A Cross-Sectional Surveillance Study of Acute Respiratory Illness (ARI) in Pregnant Women\n",
      "A Cloud Based Epidemiology Network to Investigate Geographical Dynamics of Respiratory Disease\n",
      "New evidence-based clinical practice guideline timely supports hospital infection control of coronavirus disease 2019\n",
      "The Impact of Respiratory Viral Testing in Hospitalized Adult Patients at a Tertiary Care Facility\n",
      "Long-term Respiratory Complication in Patients with Middle East Respiratory Syndrome: 1-year Follow-up After the 2015 Outbreak in South Korea\n",
      "Nepal’s First Case of COVID-19 and public health response\n",
      "COVID-19 outbreak on the Diamond Princess cruise ship: estimating the epidemic potential and effectiveness of public health countermeasures\n",
      "A N7-guanine RNA cap methyltransferase signature-sequence as a genetic marker of large genome, non-mammalian Tobaniviridae\n",
      "Rapid Communication: Subclinical bovine respiratory disease – loci and pathogens associated with lung lesions in feedlot cattle1\n",
      "Genome Detective Coronavirus Typing Tool for rapid identification and\n",
      "characterization of novel coronavirus genomes\n",
      "Drug repurposing strategies for COVID-19\n",
      "Coronavirus Disease 2019 Treatment: A Review of Early and Emerging Options\n",
      "Is there a role for tissue plasminogen activator as a novel treatment for refractory COVID-19 associated acute respiratory distress syndrome?\n",
      "COVID-19 and emerging viral infections: The case for interferon lambda\n",
      "Targeting potential drivers of COVID-19: Neutrophil extracellular traps\n"
     ]
    }
   ],
   "source": [
    "## Here i have tried to make heading from paper Title in those topic+common words in those topic\n",
    "paper_topic1=[data['text'][i][\"title\"] for i in topic1]\n",
    "paper_topic5=[data['text'][i][\"title\"] for i in topic5]\n",
    "print(\"Most Common words:\",lda_model.print_topic(1, 50))\n",
    "print(\"\\nPaper Catogarized in this topic\")\n",
    "for i in paper_topic1:\n",
    "    print(i)"
   ]
  },
  {
   "cell_type": "code",
   "execution_count": 20,
   "metadata": {},
   "outputs": [],
   "source": [
    "def subtopic(topic1,NUM_TOPICS):\n",
    "    topic1_data=[tokens_data[i] for i in topic1]\n",
    "    topic1_tokenized=[]\n",
    "    for i in topic1_data:\n",
    "        topic1_tokenized.append(tokens_data[i])\n",
    "    dictionary = corpora.Dictionary(topic1_tokenized)\n",
    "    print(len(dictionary))\n",
    "    corpus = [dictionary.doc2bow(t) for t in topic1_tokenized]\n",
    "    model_topic1 = models.LdaModel(corpus=corpus, num_topics=NUM_TOPICS, id2word=dictionary)\n",
    "\n",
    "    papertopic1={}\n",
    "    for i,t in enumerate(topic1_data):\n",
    "        result=model_topic1[dictionary.doc2bow(tokens_data[i])]\n",
    "        maxresult=result[0][1]\n",
    "        for j in result:\n",
    "            if j[1]>maxresult:\n",
    "                maxresult=j[1]\n",
    "        topic=[j[0] for j in result if j[1]==maxresult][0]\n",
    "        papertopic1[str(i)]=topic\n",
    "    return papertopic1"
   ]
  },
  {
   "cell_type": "code",
   "execution_count": 22,
   "metadata": {},
   "outputs": [],
   "source": [
    "# import seaborn as sns\n",
    "# import matplotlib.pyplot as plt\n",
    "# plt.figure(figsize=(20,20))\n",
    "# f, axes = plt.subplots(2, 5,figsize=(20,10))\n",
    "# axes[0][0].title.set_text('SubTopics Under Topic 0')\n",
    "# axes[0][1].title.set_text('SubTopics Under Topic 1')\n",
    "# axes[0][2].title.set_text('SubTopics Under Topic 2')\n",
    "# axes[0][3].title.set_text('SubTopics Under Topic 3')\n",
    "# axes[0][4].title.set_text('SubTopics Under Topic 4')\n",
    "# axes[1][0].title.set_text('SubTopics Under Topic 5')\n",
    "# axes[1][1].title.set_text('SubTopics Under Topic 6')\n",
    "# axes[1][2].title.set_text('SubTopics Under Topic 7')\n",
    "# axes[1][3].title.set_text('SubTopics Under Topic 8')\n",
    "# axes[1][4].title.set_text('SubTopics Under Topic 9')\n",
    "# sns.countplot([j for j in subtopic(topic0,5).values()],ax=axes[0][0])\n",
    "# sns.countplot([j for j in subtopic(topic1,5).values()],ax=axes[0][1])\n",
    "# sns.countplot([j for j in subtopic(topic2,5).values()],ax=axes[0][2])\n",
    "# sns.countplot([j for j in subtopic(topic3,5).values()],ax=axes[0][3])\n",
    "# sns.countplot([j for j in subtopic(topic4,5).values()],ax=axes[0][4])\n",
    "# sns.countplot([j for j in subtopic(topic5,5).values()],ax=axes[1][0])\n",
    "# sns.countplot([j for j in subtopic(topic6,5).values()],ax=axes[1][1])\n",
    "# sns.countplot([j for j in subtopic(topic7,5).values()],ax=axes[1][2])\n",
    "# sns.countplot([j for j in subtopic(topic8,5).values()],ax=axes[1][3])\n",
    "# sns.countplot([j for j in subtopic(topic9,5).values()],ax=axes[1][4])"
   ]
  },
  {
   "cell_type": "markdown",
   "metadata": {},
   "source": [
    "## "
   ]
  },
  {
   "cell_type": "code",
   "execution_count": null,
   "metadata": {},
   "outputs": [],
   "source": []
  }
 ],
 "metadata": {
  "kernelspec": {
   "display_name": "Python 3",
   "language": "python",
   "name": "python3"
  },
  "language_info": {
   "codemirror_mode": {
    "name": "ipython",
    "version": 3
   },
   "file_extension": ".py",
   "mimetype": "text/x-python",
   "name": "python",
   "nbconvert_exporter": "python",
   "pygments_lexer": "ipython3",
   "version": "3.7.5"
  }
 },
 "nbformat": 4,
 "nbformat_minor": 4
}
