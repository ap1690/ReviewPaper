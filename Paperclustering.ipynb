{
 "cells": [
  {
   "cell_type": "code",
   "execution_count": 1,
   "metadata": {},
   "outputs": [],
   "source": [
    "import json\n",
    "with open(\"paper_title_abstract_bodytext.json\") as f:\n",
    "    data=json.load(f)"
   ]
  },
  {
   "cell_type": "code",
   "execution_count": 2,
   "metadata": {},
   "outputs": [
    {
     "name": "stdout",
     "output_type": "stream",
     "text": [
      "68204\n"
     ]
    }
   ],
   "source": [
    "print(len(data))"
   ]
  },
  {
   "cell_type": "code",
   "execution_count": 3,
   "metadata": {},
   "outputs": [],
   "source": [
    "#Merged abstract and body-text of a paper as doc\n",
    "text={}\n",
    "text[\"text\"]=[i[\"abstract\"].lower()+\" \"+i[\"body_text\"].lower() for i in data]"
   ]
  },
  {
   "cell_type": "code",
   "execution_count": 4,
   "metadata": {},
   "outputs": [
    {
     "name": "stdout",
     "output_type": "stream",
     "text": [
      "68204\n",
      "2000\n"
     ]
    }
   ],
   "source": [
    "#Took 2000 Research Papers for modelling \n",
    "print(len(text[\"text\"]))\n",
    "cleaned_data=text[\"text\"][:400]+text[\"text\"][2000:2400]+text[\"text\"][20000:20400]+text[\"text\"][40000:40400]+text[\"text\"][67800:68200]\n",
    "print(len(cleaned_data))"
   ]
  },
  {
   "cell_type": "code",
   "execution_count": 5,
   "metadata": {},
   "outputs": [],
   "source": [
    "#Removing extra spacing\n",
    "def remove_extra_spaces(s):\n",
    "    s=s.strip()\n",
    "    s=s.split()\n",
    "    return \" \".join(s)\n",
    "cleaned_text=[remove_extra_spaces(i) for i in cleaned_data]"
   ]
  },
  {
   "cell_type": "code",
   "execution_count": 6,
   "metadata": {},
   "outputs": [],
   "source": [
    "\"\"\"\n",
    "Not performing stemming coz it is earasing important info abount tha data coronavirus->coronaviru etc a lot like this\n",
    "\"\"\"\n",
    "from nltk.stem import PorterStemmer \n",
    "from nltk.tokenize import word_tokenize \n",
    "def tokensex(s):\n",
    "    ps = PorterStemmer() \n",
    "    sentence=[]\n",
    "    words = word_tokenize(s)\n",
    "    for w in words: \n",
    "        sentence.append(ps.stem(w))\n",
    "    return \" \".join(sentence)\n",
    "tokenized_data=[tokensex(i) for i in cleaned_text]"
   ]
  },
  {
   "cell_type": "code",
   "execution_count": 7,
   "metadata": {},
   "outputs": [
    {
     "data": {
      "text/plain": [
       "2000"
      ]
     },
     "execution_count": 7,
     "metadata": {},
     "output_type": "execute_result"
    }
   ],
   "source": [
    "len(tokenized_data)"
   ]
  },
  {
   "cell_type": "code",
   "execution_count": 8,
   "metadata": {},
   "outputs": [
    {
     "data": {
      "text/plain": [
       "'\\nIt is to check and remove redundent repeating words like preprint journel and all of them are mentioned in bekar\\npool=[]\\nprint(len(tokenized_data[0]))\\nfor i in tokenized_data:\\n    for j in i:\\n        pool.append(j)\\nfrom collections import Counter\\ncounts = Counter(pool)\\ncounts.most_common(100)'"
      ]
     },
     "execution_count": 8,
     "metadata": {},
     "output_type": "execute_result"
    }
   ],
   "source": [
    "\"\"\"\n",
    "It is to check and remove redundent repeating words like preprint journel and all of them are mentioned in bekar\n",
    "pool=[]\n",
    "print(len(tokenized_data[0]))\n",
    "for i in tokenized_data:\n",
    "    for j in i:\n",
    "        pool.append(j)\n",
    "from collections import Counter\n",
    "counts = Counter(pool)\n",
    "counts.most_common(100)\"\"\""
   ]
  },
  {
   "cell_type": "code",
   "execution_count": 9,
   "metadata": {},
   "outputs": [],
   "source": [
    "import re\n",
    "from gensim import models, corpora\n",
    "from nltk import word_tokenize\n",
    "from nltk.corpus import stopwords\n",
    "STOPWORDS = stopwords.words('english')\n",
    "bekar=\"preprint license copyright author/funder word count text https doi figure holder data cases medrxiv biorxiv made time may study high total population number granted used using also international fig cc-by-nc-nd rights reserved peer-reviewed\"\n",
    "def clean_text(text):\n",
    "    tokenized_text = word_tokenize(text)\n",
    "    cleaned_text = [t for t in tokenized_text if t not in STOPWORDS and re.match('[a-zA-Z\\-][a-zA-Z\\-]{2,}', t) and t not in bekar]\n",
    "    return cleaned_text\n",
    "\n",
    "tokens_data = []\n",
    "for t in tokenized_data:\n",
    "    tokens_data.append(clean_text(t))\n",
    " \n"
   ]
  },
  {
   "cell_type": "code",
   "execution_count": 10,
   "metadata": {},
   "outputs": [
    {
     "name": "stdout",
     "output_type": "stream",
     "text": [
      "121819\n"
     ]
    }
   ],
   "source": [
    "# Fitted LDA\n",
    "NUM_TOPICS=10\n",
    "dictionary = corpora.Dictionary(tokens_data)\n",
    "print(len(dictionary))\n",
    "corpus = [dictionary.doc2bow(t) for t in tokens_data]\n",
    "lda_model = models.LdaModel(corpus=corpus, num_topics=NUM_TOPICS, id2word=dictionary)\n"
   ]
  },
  {
   "cell_type": "code",
   "execution_count": 12,
   "metadata": {},
   "outputs": [
    {
     "name": "stdout",
     "output_type": "stream",
     "text": [
      "\n",
      "Topic #0: 0.013*\"cell\" + 0.008*\"thi\" + 0.007*\"infect\" + 0.007*\"protein\" + 0.006*\"viru\" + 0.005*\"studi\" + 0.004*\"viral\" + 0.004*\"patient\" + 0.004*\"gene\" + 0.003*\"test\" + 0.003*\"sequenc\" + 0.003*\"differ\" + 0.003*\"diseas\" + 0.003*\"detect\" + 0.003*\"result\" + 0.003*\"express\" + 0.003*\"activ\" + 0.003*\"group\" + 0.003*\"show\" + 0.003*\"includ\" + 0.003*\"effect\" + 0.003*\"human\" + 0.003*\"vaccin\" + 0.003*\"howev\" + 0.003*\"increas\" + 0.003*\"sampl\" + 0.003*\"virus\" + 0.003*\"level\" + 0.002*\"report\" + 0.002*\"respons\" + 0.002*\"rate\" + 0.002*\"model\" + 0.002*\"two\" + 0.002*\"dure\" + 0.002*\"immun\" + 0.002*\"strain\" + 0.002*\"one\" + 0.002*\"observ\" + 0.002*\"control\" + 0.002*\"sever\" + 0.002*\"compar\" + 0.002*\"analysi\" + 0.002*\"develop\" + 0.002*\"structur\" + 0.002*\"bind\" + 0.002*\"region\" + 0.002*\"caus\" + 0.002*\"addit\" + 0.002*\"est\" + 0.002*\"follow\"\n",
      "\n",
      "Topic #1: 0.009*\"thi\" + 0.008*\"studi\" + 0.005*\"infect\" + 0.004*\"patient\" + 0.004*\"diseas\" + 0.004*\"result\" + 0.004*\"test\" + 0.004*\"cell\" + 0.004*\"sampl\" + 0.003*\"observ\" + 0.003*\"virus\" + 0.003*\"group\" + 0.003*\"activ\" + 0.003*\"differ\" + 0.003*\"report\" + 0.003*\"viral\" + 0.003*\"protein\" + 0.003*\"viru\" + 0.003*\"two\" + 0.003*\"includ\" + 0.003*\"one\" + 0.002*\"human\" + 0.002*\"health\" + 0.002*\"clinic\" + 0.002*\"level\" + 0.002*\"caus\" + 0.002*\"valu\" + 0.002*\"day\" + 0.002*\"dure\" + 0.002*\"strain\" + 0.002*\"increas\" + 0.002*\"identifi\" + 0.002*\"respiratori\" + 0.002*\"detect\" + 0.002*\"present\" + 0.002*\"onli\" + 0.002*\"howev\" + 0.002*\"gener\" + 0.002*\"found\" + 0.002*\"model\" + 0.002*\"tabl\" + 0.002*\"posit\" + 0.002*\"show\" + 0.002*\"perform\" + 0.002*\"sequenc\" + 0.002*\"sever\" + 0.002*\"anim\" + 0.002*\"suggest\" + 0.002*\"avail\" + 0.002*\"associ\"\n",
      "\n",
      "Topic #2: 0.008*\"thi\" + 0.007*\"patient\" + 0.006*\"infect\" + 0.005*\"studi\" + 0.005*\"cell\" + 0.004*\"diseas\" + 0.004*\"sampl\" + 0.004*\"covid-19\" + 0.003*\"test\" + 0.003*\"result\" + 0.003*\"viru\" + 0.003*\"day\" + 0.003*\"includ\" + 0.003*\"protein\" + 0.003*\"clinic\" + 0.003*\"detect\" + 0.003*\"viral\" + 0.003*\"two\" + 0.003*\"howev\" + 0.003*\"model\" + 0.003*\"system\" + 0.003*\"control\" + 0.002*\"show\" + 0.002*\"effect\" + 0.002*\"differ\" + 0.002*\"one\" + 0.002*\"posit\" + 0.002*\"group\" + 0.002*\"sever\" + 0.002*\"human\" + 0.002*\"report\" + 0.002*\"perform\" + 0.002*\"rate\" + 0.002*\"virus\" + 0.002*\"respiratori\" + 0.002*\"increas\" + 0.002*\"avail\" + 0.002*\"observ\" + 0.002*\"onli\" + 0.002*\"level\" + 0.002*\"treatment\" + 0.002*\"activ\" + 0.002*\"tabl\" + 0.002*\"gene\" + 0.002*\"first\" + 0.002*\"indic\" + 0.002*\"develop\" + 0.002*\"dure\" + 0.002*\"present\" + 0.002*\"influenza\"\n",
      "\n",
      "Topic #3: 0.010*\"thi\" + 0.010*\"infect\" + 0.006*\"protein\" + 0.005*\"cell\" + 0.005*\"model\" + 0.005*\"viru\" + 0.004*\"differ\" + 0.004*\"effect\" + 0.004*\"studi\" + 0.004*\"result\" + 0.004*\"viral\" + 0.004*\"sever\" + 0.003*\"human\" + 0.003*\"diseas\" + 0.003*\"includ\" + 0.003*\"activ\" + 0.003*\"day\" + 0.003*\"sampl\" + 0.003*\"patient\" + 0.003*\"express\" + 0.003*\"increas\" + 0.003*\"report\" + 0.003*\"test\" + 0.003*\"antibodi\" + 0.002*\"structur\" + 0.002*\"one\" + 0.002*\"follow\" + 0.002*\"two\" + 0.002*\"show\" + 0.002*\"vaccin\" + 0.002*\"howev\" + 0.002*\"onli\" + 0.002*\"health\" + 0.002*\"tabl\" + 0.002*\"clinic\" + 0.002*\"group\" + 0.002*\"analysi\" + 0.002*\"covid-19\" + 0.002*\"provid\" + 0.002*\"sequenc\" + 0.002*\"control\" + 0.002*\"transmiss\" + 0.002*\"region\" + 0.002*\"virus\" + 0.002*\"system\" + 0.002*\"reduc\" + 0.002*\"observ\" + 0.002*\"potenti\" + 0.002*\"detect\" + 0.002*\"compar\"\n",
      "\n",
      "Topic #4: 0.010*\"thi\" + 0.008*\"infect\" + 0.007*\"patient\" + 0.006*\"studi\" + 0.006*\"cell\" + 0.005*\"viru\" + 0.005*\"diseas\" + 0.004*\"result\" + 0.003*\"day\" + 0.003*\"rate\" + 0.003*\"effect\" + 0.003*\"report\" + 0.003*\"covid-19\" + 0.003*\"model\" + 0.003*\"sequenc\" + 0.003*\"one\" + 0.003*\"treatment\" + 0.003*\"human\" + 0.003*\"differ\" + 0.003*\"sampl\" + 0.003*\"protein\" + 0.003*\"includ\" + 0.003*\"two\" + 0.003*\"express\" + 0.003*\"sever\" + 0.003*\"show\" + 0.002*\"vaccin\" + 0.002*\"viral\" + 0.002*\"group\" + 0.002*\"respons\" + 0.002*\"activ\" + 0.002*\"addit\" + 0.002*\"howev\" + 0.002*\"follow\" + 0.002*\"detect\" + 0.002*\"test\" + 0.002*\"control\" + 0.002*\"level\" + 0.002*\"avail\" + 0.002*\"increas\" + 0.002*\"develop\" + 0.002*\"system\" + 0.002*\"analysi\" + 0.002*\"caus\" + 0.002*\"compar\" + 0.002*\"clinic\" + 0.002*\"display\" + 0.002*\"present\" + 0.002*\"onli\" + 0.002*\"associ\"\n",
      "\n",
      "Topic #5: 0.009*\"thi\" + 0.007*\"cell\" + 0.005*\"infect\" + 0.004*\"protein\" + 0.004*\"studi\" + 0.004*\"diseas\" + 0.004*\"sever\" + 0.004*\"viru\" + 0.003*\"patient\" + 0.003*\"express\" + 0.003*\"test\" + 0.003*\"result\" + 0.003*\"differ\" + 0.003*\"activ\" + 0.003*\"report\" + 0.003*\"group\" + 0.003*\"model\" + 0.003*\"clinic\" + 0.003*\"day\" + 0.003*\"system\" + 0.003*\"human\" + 0.003*\"increas\" + 0.003*\"health\" + 0.003*\"sequenc\" + 0.002*\"show\" + 0.002*\"one\" + 0.002*\"analysi\" + 0.002*\"addit\" + 0.002*\"covid-19\" + 0.002*\"effect\" + 0.002*\"develop\" + 0.002*\"includ\" + 0.002*\"transmiss\" + 0.002*\"two\" + 0.002*\"viral\" + 0.002*\"found\" + 0.002*\"treatment\" + 0.002*\"compar\" + 0.002*\"dure\" + 0.002*\"gene\" + 0.002*\"sampl\" + 0.002*\"perform\" + 0.002*\"specif\" + 0.002*\"tabl\" + 0.002*\"onli\" + 0.002*\"level\" + 0.002*\"emerg\" + 0.002*\"control\" + 0.002*\"base\" + 0.002*\"determin\"\n",
      "\n",
      "Topic #6: 0.008*\"thi\" + 0.007*\"cell\" + 0.007*\"infect\" + 0.006*\"studi\" + 0.005*\"patient\" + 0.005*\"diseas\" + 0.004*\"test\" + 0.004*\"result\" + 0.004*\"model\" + 0.003*\"protein\" + 0.003*\"viru\" + 0.003*\"differ\" + 0.003*\"level\" + 0.003*\"increas\" + 0.003*\"includ\" + 0.003*\"report\" + 0.003*\"human\" + 0.003*\"sampl\" + 0.003*\"respons\" + 0.003*\"activ\" + 0.003*\"analysi\" + 0.003*\"day\" + 0.003*\"effect\" + 0.003*\"gene\" + 0.003*\"observ\" + 0.003*\"rate\" + 0.003*\"one\" + 0.002*\"detect\" + 0.002*\"control\" + 0.002*\"show\" + 0.002*\"sever\" + 0.002*\"immun\" + 0.002*\"avail\" + 0.002*\"tabl\" + 0.002*\"viral\" + 0.002*\"hospit\" + 0.002*\"virus\" + 0.002*\"identifi\" + 0.002*\"covid-19\" + 0.002*\"express\" + 0.002*\"present\" + 0.002*\"sequenc\" + 0.002*\"perform\" + 0.002*\"could\" + 0.002*\"onli\" + 0.002*\"dure\" + 0.002*\"group\" + 0.002*\"found\" + 0.002*\"acid\" + 0.002*\"compar\"\n",
      "\n",
      "Topic #7: 0.013*\"cell\" + 0.009*\"thi\" + 0.008*\"infect\" + 0.005*\"viru\" + 0.005*\"viral\" + 0.005*\"studi\" + 0.005*\"patient\" + 0.004*\"protein\" + 0.004*\"model\" + 0.004*\"differ\" + 0.004*\"result\" + 0.004*\"respons\" + 0.003*\"group\" + 0.003*\"activ\" + 0.003*\"express\" + 0.003*\"level\" + 0.003*\"report\" + 0.003*\"control\" + 0.003*\"sequenc\" + 0.003*\"detect\" + 0.002*\"sampl\" + 0.002*\"day\" + 0.002*\"human\" + 0.002*\"immun\" + 0.002*\"increas\" + 0.002*\"rate\" + 0.002*\"test\" + 0.002*\"avail\" + 0.002*\"observ\" + 0.002*\"vaccin\" + 0.002*\"addit\" + 0.002*\"includ\" + 0.002*\"gene\" + 0.002*\"antibodi\" + 0.002*\"system\" + 0.002*\"develop\" + 0.002*\"present\" + 0.002*\"signific\" + 0.002*\"specif\" + 0.002*\"two\" + 0.002*\"onli\" + 0.002*\"genom\" + 0.002*\"compar\" + 0.002*\"associ\" + 0.002*\"treatment\" + 0.002*\"influenza\" + 0.002*\"dure\" + 0.002*\"effect\" + 0.002*\"howev\" + 0.002*\"shown\"\n",
      "\n",
      "Topic #8: 0.012*\"thi\" + 0.009*\"cell\" + 0.007*\"infect\" + 0.006*\"studi\" + 0.005*\"activ\" + 0.004*\"differ\" + 0.004*\"protein\" + 0.004*\"sequenc\" + 0.004*\"patient\" + 0.003*\"vaccin\" + 0.003*\"diseas\" + 0.003*\"respons\" + 0.003*\"viru\" + 0.003*\"viral\" + 0.003*\"two\" + 0.003*\"increas\" + 0.003*\"express\" + 0.003*\"includ\" + 0.003*\"model\" + 0.003*\"sampl\" + 0.003*\"result\" + 0.003*\"one\" + 0.003*\"effect\" + 0.003*\"control\" + 0.003*\"show\" + 0.002*\"report\" + 0.002*\"detect\" + 0.002*\"antibodi\" + 0.002*\"develop\" + 0.002*\"addit\" + 0.002*\"compar\" + 0.002*\"group\" + 0.002*\"avail\" + 0.002*\"similar\" + 0.002*\"dure\" + 0.002*\"associ\" + 0.002*\"tabl\" + 0.002*\"human\" + 0.002*\"system\" + 0.002*\"immun\" + 0.002*\"onli\" + 0.002*\"respiratori\" + 0.002*\"gene\" + 0.002*\"three\" + 0.002*\"analysi\" + 0.002*\"sever\" + 0.002*\"day\" + 0.002*\"genom\" + 0.002*\"posit\" + 0.002*\"level\"\n",
      "\n",
      "Topic #9: 0.008*\"thi\" + 0.007*\"studi\" + 0.007*\"infect\" + 0.006*\"cell\" + 0.005*\"viral\" + 0.005*\"protein\" + 0.004*\"viru\" + 0.004*\"patient\" + 0.004*\"report\" + 0.004*\"differ\" + 0.004*\"sequenc\" + 0.004*\"effect\" + 0.003*\"includ\" + 0.003*\"activ\" + 0.003*\"model\" + 0.003*\"result\" + 0.003*\"sampl\" + 0.003*\"test\" + 0.003*\"diseas\" + 0.003*\"gene\" + 0.003*\"identifi\" + 0.003*\"sever\" + 0.003*\"respons\" + 0.003*\"show\" + 0.003*\"suggest\" + 0.003*\"detect\" + 0.002*\"two\" + 0.002*\"system\" + 0.002*\"group\" + 0.002*\"one\" + 0.002*\"howev\" + 0.002*\"covid-19\" + 0.002*\"virus\" + 0.002*\"dure\" + 0.002*\"analysi\" + 0.002*\"clinic\" + 0.002*\"tabl\" + 0.002*\"first\" + 0.002*\"gener\" + 0.002*\"onli\" + 0.002*\"avail\" + 0.002*\"posit\" + 0.002*\"genom\" + 0.002*\"compar\" + 0.002*\"increas\" + 0.002*\"perform\" + 0.002*\"day\" + 0.002*\"health\" + 0.002*\"rate\" + 0.002*\"develop\"\n"
     ]
    }
   ],
   "source": [
    "for idx in range(NUM_TOPICS):\n",
    "    print(\"\\nTopic #%s:\" % idx, lda_model.print_topic(idx, 50))"
   ]
  },
  {
   "cell_type": "code",
   "execution_count": 14,
   "metadata": {},
   "outputs": [],
   "source": [
    "papertopic={}\n",
    "for i,t in enumerate(cleaned_text):\n",
    "    result=lda_model[dictionary.doc2bow(clean_text(t))]\n",
    "    maxresult=result[0][1]\n",
    "    for j in result:\n",
    "        if j[1]>maxresult:\n",
    "            maxresult=j[1]\n",
    "    topic=[j[0] for j in result if j[1]==maxresult][0]\n",
    "    papertopic[str(i)]=topic\n",
    "        "
   ]
  },
  {
   "cell_type": "code",
   "execution_count": 15,
   "metadata": {},
   "outputs": [
    {
     "data": {
      "text/plain": [
       "<matplotlib.axes._subplots.AxesSubplot at 0x212e919f3c8>"
      ]
     },
     "execution_count": 15,
     "metadata": {},
     "output_type": "execute_result"
    },
    {
     "data": {
      "image/png": "[encoded data removed]",
      "text/plain": [
       "<Figure size 1440x360 with 1 Axes>"
      ]
     },
     "metadata": {
      "needs_background": "light"
     },
     "output_type": "display_data"
    }
   ],
   "source": [
    "freq=[j for j in papertopic.values()]\n",
    "import seaborn as sns\n",
    "import matplotlib.pyplot as plt\n",
    "plt.figure(figsize=(20,5))\n",
    "sns.countplot(freq)"
   ]
  },
  {
   "cell_type": "code",
   "execution_count": 43,
   "metadata": {},
   "outputs": [],
   "source": [
    "def extract_topic(p,topic_num):\n",
    "    topic=[]\n",
    "    for i in p.keys():\n",
    "        if p[i]==topic_num:\n",
    "            topic.append(int(i))\n",
    "    return topic\n",
    "topic0=extract_topic(papertopic,0)\n",
    "topic1=extract_topic(papertopic,1)\n",
    "topic2=extract_topic(papertopic,2)\n",
    "topic3=extract_topic(papertopic,3)\n",
    "topic4=extract_topic(papertopic,4)\n",
    "topic5=extract_topic(papertopic,5)\n",
    "topic6=extract_topic(papertopic,6)\n",
    "topic7=extract_topic(papertopic,7)\n",
    "topic8=extract_topic(papertopic,8)\n",
    "topic9=extract_topic(papertopic,9)"
   ]
  },
  {
   "cell_type": "code",
   "execution_count": 44,
   "metadata": {},
   "outputs": [
    {
     "name": "stdout",
     "output_type": "stream",
     "text": [
      "Most Common words: 0.009*\"thi\" + 0.008*\"studi\" + 0.005*\"infect\" + 0.004*\"patient\" + 0.004*\"diseas\" + 0.004*\"result\" + 0.004*\"test\" + 0.004*\"cell\" + 0.004*\"sampl\" + 0.003*\"observ\" + 0.003*\"virus\" + 0.003*\"group\" + 0.003*\"activ\" + 0.003*\"differ\" + 0.003*\"report\" + 0.003*\"viral\" + 0.003*\"protein\" + 0.003*\"viru\" + 0.003*\"two\" + 0.003*\"includ\" + 0.003*\"one\" + 0.002*\"human\" + 0.002*\"health\" + 0.002*\"clinic\" + 0.002*\"level\" + 0.002*\"caus\" + 0.002*\"valu\" + 0.002*\"day\" + 0.002*\"dure\" + 0.002*\"strain\" + 0.002*\"increas\" + 0.002*\"identifi\" + 0.002*\"respiratori\" + 0.002*\"detect\" + 0.002*\"present\" + 0.002*\"onli\" + 0.002*\"howev\" + 0.002*\"gener\" + 0.002*\"found\" + 0.002*\"model\" + 0.002*\"tabl\" + 0.002*\"posit\" + 0.002*\"show\" + 0.002*\"perform\" + 0.002*\"sequenc\" + 0.002*\"sever\" + 0.002*\"anim\" + 0.002*\"suggest\" + 0.002*\"avail\" + 0.002*\"associ\"\n",
      "\n",
      "Paper Catogarized in this topic\n",
      "The RNA pseudoknots in foot-and-mouth disease virus are dispensable for genome replication but essential for the production of infectious virus. 2 3\n",
      "Carbon Nanocarriers Deliver siRNA to Intact Plant Cells for Efficient Gene\n",
      "Title Page Running Title: Breastfeeding of COVID-19 Mothers Breastfeeding of Infants Born to Mothers with COVID-19: A Rapid Review\n",
      "Assessment of Fabric Masks as Alternatives to Standard Surgical Masks in Terms of Particle Filtration Efficiency\n",
      "Cryo-EM structures of HKU2 and SADS-CoV spike 1 glycoproteins and insights into coronavirus evolution 2 3 4\n",
      "p53 is not necessary for DUX4 pathology\n",
      "Acute gastrointestinal injury in critically ill patients with coronavirus disease 2019 in Wuhan, China\n",
      "Fast SARS-CoV-2 detection by RT-qPCR in preheated nasopharyngeal swab samples\n",
      "Alternative Qualitative Fit Testing Method for N95 Equivalent Respirators in the Setting of Resource Scarcity at the George Washington University\n",
      "Dissecting genetic and sex-specific host heterogeneity in pathogen transmission 1 potential 2 3 4\n",
      "RAPID SEROLOGICAL TESTS HAVE A ROLE IN ASYMPTOMATIC HEALTH WORKERS COVID-19 SCREENING\n",
      "FilmArray Respiratory Panel Integrated in a field Point Of Care dispositive for the diagnosis of respiratory tract infections in rural areas in Senegal 2 Senegal\n",
      "FFP-2 respirator masks in times of crisis 1 FFP-2 respirator masks in times of crisis\n",
      "Transferrin binding protein B and Transferrin binding protein A 2 expand the transferrin 1 recognition range of Histophilus somni 2 3 Running title: TbpB and TbpA2 broaden specificity of\n",
      "Testing the association between blood type and COVID-19 infection, intubation, and death\n",
      "Optimizing RT-PCR detection of SARS-CoV-2 for developing countries using pool testing\n",
      "Chemogenetic evidence that rapid neuronal de novo protein synthesis is 3 required for consolidation of long-term memory Introduction 82\n",
      "Evolutionary rate shifts suggest species-specific adaptation events 1 in HIV-1 and SIV 6\n",
      "A single dose of ChAdOx1 MERS provides broad protective immunity against a variety of MERS-CoV strains\n",
      "Coronavirus S protein-induced fusion is blocked prior to hemifusion by Abl kinase inhibitors\n",
      "The effectiveness of full and partial travel bans against COVID-19 spread in Australia for travellers from China\n",
      "Differential ventilation using flow control valves as a potential bridge to full ventilatory support during the COVID-19 crisis: From bench to bedside\n",
      "Window of Opportunity for Mitigation to Prevent Overflow of ICU capacity in Chicago by COVID-19\n",
      "Age-dependent effects in the transmission and control of COVID-19 epidemics\n",
      "Risk factors related to hepatic injury in patients with corona virus disease 2019\n",
      "RISK ASSESMENT of nCOVID-19 PANDEMIC IN INDIA: A MATHEMATICAL MODEL AND SIMULATION\n",
      "Efficient high throughput SARS-CoV-2 testing to detect asymptomatic carriers\n",
      "A New, Simple Projection Model for COVID-19 Pandemic\n",
      "Remote control of neural function by X-ray-induced scintillation\n",
      "\n",
      "Neuronal CCL2 expression drives inflammatory monocyte infiltration into the brain during acute virus infection\n",
      "Meteorological factors and domestic new cases of coronavirus disease (COVID-19) in nine Asian cities: A time-series analysis\n",
      "Temporal rise in the proportion of both younger adults and older adolescents among COVID-19 cases in Germany: evidence of lesser adherence to social distancing practices?\n",
      "PRE-PRINT MANUSCRIPT\n",
      "Research on the Influence of Effective Distance Between Cities on the Cross-regional Transmission of COVID-19\n",
      "Title: HOPS-dependent endosomal fusion required for efficient cytosolic delivery of therapeutic peptides and small proteins\n",
      "Specific ACE2 Expression in Cholangiocytes May Cause Liver Damage After 2019-nCoV Infection\n",
      "Ocular conjunctival inoculation of SARS-CoV-2 can cause mild COVID-19 in Rhesus macaques 2 3\n",
      "Title: Sulforhodamine B and exogenous surfactant effects on alveolar surface tension in acute respiratory distress syndrome models\n",
      "Letter to the Editor SARS-Cov-2 RNA Found on Particulate Matter of Bergamo in Northern Italy: First Preliminary Evidence\n",
      "In-depth Bioinformatic Analyses of Human SARS-CoV-2, SARS-CoV, MERS- CoV, and Other Nidovirales Suggest Important Roles of Noncanonical Nucleic Acid Structures in Their Lifecycles\n",
      "Elevated serum IgM levels indicate poor outcome in patients with coronavirus disease 2019 pneumonia: A retrospective case-control study\n",
      "\n",
      "ACE inhibition and cardiometabolic risk factors, lung ACE2 and TMPRSS2 gene expression, and plasma ACE2 levels: a Mendelian randomization study Address for correspondence Author contributions\n",
      "Processing of the SARS-CoV pp1a/ab nsp7-10 region\n",
      "Association of County-Level Socioeconomic and Political Characteristics with Engagement in Social Distancing for COVID-19\n",
      "Evidence that higher temperatures are associated with lower incidence of COVID-19 in pandemic state, cumulative cases reported up to\n",
      "Estimating the real-time case fatality rate of COVID-19 using Poisson mixtures model Running head: Case fatality rate of COVID-19\n",
      "Prediction of Peak and Termination of Novel Coronavirus Covid-19 Epidemic in Iran\n",
      "Lopinavir/ritonavir f or the treatment of COVID-19: A living systematic review protocol Eligibility criteria for selecting studies and methods\n",
      "The Israeli Acute Paralysis Virus IRES captures host\n",
      "Evolving epidemiology of novel coronavirus diseases 2019 and possible interruption of local transmission outside Hubei Province in China: a descriptive and modeling study\n",
      "Insights on early mutational events in SARS-CoV-2\n",
      "Effects of temperature on COVID-19 transmission\n",
      "Modelling the Potential Health Impact of the COVID-19 Pandemic on a Hypothetical European Country\n",
      "Optimal Control applied to a SEIR model of 2019-nCoV with social distancing\n",
      "INFEKTA: A General Agent-based Model for Transmission of Infectious Diseases: Studying the COVID-19 Propagation in Bogotá -Colombia\n",
      "Exercising caution in correlating COVID-19 incidence and mortality rates with BCG vaccination policies due to variable rates of SARS CoV-2 testing\n",
      "The phenotypic changes of γ δ T cells in COVID-19 patients\n",
      "Detection of spreader nodes and ranking of interacting edges in Human-SARS-CoV protein interaction network\n",
      "Analysis clinical features of COVID-19 infection in secondary epidemic area and report potential biomarkers in evaluation\n",
      "Brief Analysis of the ARIMA model on the COVID-19 in Italy\n",
      "First month of the epidemic caused by COVID-19 in Italy: current status and real-time outbreak development forecast\n",
      "A PROOF OF CONCEPT FOR A SYNDROMIC SURVEILLANCE SYSTEM BASED ON ROUTINE AMBULANCE RECORDS IN THE SOUTH-WEST OF ENGLAND, FOR THE INFLUENZA SEASON A PREPRINT\n",
      "Temporal detection and phylogenetic assessment of SARS-CoV-2 in municipal wastewater\n",
      "Tuning antiviral CD8 T-cell response via proline-altered peptide ligand vaccination\n",
      "Evaluation of Nucleocapsid and Spike Protein-based ELISAs for detecting antibodies against SARS-CoV-2\n",
      "WeChat, a Chinese social media, may early detect the SARS-CoV-2 outbreak in 2019\n",
      "The estimated impact of non-pharmaceutical interventions on documented cases of COVID-19: A cross-country analysis\n",
      "DISPOSABLE N95 MASKS PASS QUALITATIVE FIT-TEST BUT HAVE DECREASED FILTRATION EFFICIENCY AFTER COBALT-60 GAMMA IRRADIATION\n",
      "Immuno-informatics Characterization SARS-CoV-2 Spike Glycoprotein for Prioritization of Epitope based Multivalent Peptide Vaccine\n",
      "Social Isolation and Mortality Social Isolation as a predictor for mortality: Implications for COVID-19 prognosis\n",
      "Real-time projections of epidemic transmission and estimation of vaccination impact during an Ebola virus disease outbreak in Northeastern Democratic Republic of Congo\n",
      "Excess cases of influenza suggest an earlier start to the coronavirus epidemic in Spain than official figures tell us: an analysis of primary care electronic medical records from over 6 million people from Catalonia\n",
      "P a g e Screening and managing of suspected or confirmed novel coronavirus (COVID-19) patients: experiences from a tertiary hospital outside Hubei province\n",
      "Origins and Evolution of the Global RNA Virome\n",
      "Large-scale Lassa fever outbreaks in Nigeria: quantifying the association between disease reproduction number and local rainfall\n",
      "Seeding COVID-19 across sub-Saharan Africa: an analysis of reported importation events across 40 countries\n",
      "Title: An alternative workflow for molecular detection of SARS-CoV-2 -escape from the NA\n",
      "Modeling Epidemics: A Primer and Numerus Software Implementation\n",
      "Lessons drawn from China and South Korea for managing COVID-19 epidemic: insights from a comparative modeling study\n",
      "Modelling the epidemic 2019-nCoV event in Italy: a preliminary note\n",
      "Variable Macro X Domain of SARS-CoV-2 Retains the Ability to Bind ADP-ribose\n",
      "Viral etiology of Acute Respiratory Infections in Hospitalized\n",
      "Prediction of receptorome for human-infecting virome\n",
      "Stochastic challenges to interrupting helminth transmission\n",
      "Global convergence of COVID-19 basic reproduction number and estimation from early-time SIR dynamics\n",
      "of a densely sampled COVID19 2 outbreak in China\n",
      "Title: Rapid diagnosis of SARS-CoV-2 infection by detecting IgG and IgM antibodies with an immunochromatographic device: a prospective single-center study Running title: Rapid serologic test to diagnose SARS-CoV-2 infection\n",
      "Full-length genome sequence of segmented RNA virus from ticks was obtained using small RNA sequencing data\n",
      "Computational Design of Peptides to Block Binding of the SARS-CoV-2 Spike Protein to Human ACE2\n",
      "Crystal structure of the SARS-CoV-2 non-structural protein 9, Nsp9\n",
      "Evaluating the impact of international airline suspensions on the early global spread of COVID-19\n",
      "Title Page Little Risk of the COVID-19 Resurgence on Students in China (outside Hubei) Caused by School Reopening 4 5\n",
      "Potential inhibitors for 2019-nCoV coronavirus M protease from clinically approved medicines\n",
      "ANALYSIS OF CLINICAL RECOVERY-PERIOD AND RECOVERY RATE ESTIMATION OF THE FIRST 1000 COVID-19 PATIENTS IN SINGAPORE A PREPRINT\n",
      "Could SARS-CoV-2 be transmitted via speech droplets?\n",
      "Predicting the evolution of SARS-Covid-2 in Portugal using an adapted SIR Model previously used in South Korea for the MERS outbreak\n",
      "Evidence of the Recombinant Origin and Ongoing Mutations in Severe Acute Respiratory Syndrome Coronavirus 2 (SARS-CoV-2)\n",
      "Intervention Serology and Interaction Substitution: Modeling the Role of 'Shield Immunity' in Reducing COVID-19 Epidemic Spread\n",
      "Title Non-invasive surveys of mammalian viruses using environmental DNA\n",
      "Associations of clinical characteristics and antiviral drugs with viral RNA clearance in patients with COVID-19 in Guangzhou, China: a retrospective cohort study\n",
      "12 Cape Town, Observatory, Cape Town 7701\n",
      "Running title: Aerosol transmission of SARS-CoV-2 Evidence for probable aerosol transmission of SARS-CoV-2 in a poorly ventilated restaurant\n",
      "The impact of early social distancing at COVID-19 Outbreak in the largest Metropolitan Area of Brazil\n",
      "Structural basis to design multi-epitope vaccines against Novel\n",
      "Countries should aim to lower the reproduction number close to 1.0 for the short-term mitigation of COVID-19 outbreaks\n",
      "Interdisciplinary Perspectives in Infectious Diseases Title: COVID-19 Epidemic Dynamics and Population Projections 2 from Early Days of Case Reporting in a 40 million population 3 from Southern India 4 Rashmi Pant (\n",
      "Realized generation times: contraction and impact of infectious period, reproduction number and population size\n",
      "Spreading predictability in complex networks\n",
      "Clinical and immunologic features in severe and moderate forms of Coronavirus Disease\n",
      "EPS8 facilitates uncoating of influenza A virus\n",
      "Stochastic dynamics of an epidemics with recurrent spillovers from an endemic reservoir\n",
      "Modeling of Severe Acute Respiratory Syndrome Coronavirus 2 (SARS-CoV-2) Proteins by Machine Learning and Physics-Based Refinement\n",
      "IDseq -An Open Source Cloud-based Pipeline and Analysis Service for Metagenomic Pathogen Detection and Monitoring\n",
      "Fitness barriers limit reversion of a proofreading-deficient coronavirus 1 2\n",
      "Using network science to propose strategies for effectively dealing with pandemics: The COVID-19 example\n",
      "Acceptance and preference for COVID-19 vaccination in health-care workers (HCWs)\n",
      "Highland of COVID-19 outside Hubei: epidemic characteristics, control and projections of Wenzhou, China\n",
      "Epidemic Situation of Novel Coronavirus Pneumonia in China mainland\n",
      "TLR5 participates in the TLR4 receptor complex and biases towards MyD88-dependent 1 signaling in environmental lung injury 2\n",
      "Title: Failed detection of the full-length genome of SARS-CoV-2 by ultra-deep sequencing from the recovered and discharged patients retested viral PCR positive Authors\n",
      "Genome-wide data inferring the evolution and population 1 demography of the novel pneumonia coronavirus (SARS-CoV-2)\n",
      "Decoding the lethal effect of SARS-CoV-2 (novel coronavirus) strains from global perspective: molecular pathogenesis and evolutionary divergence\n",
      "Building a COVID-19 Vulnerability Index\n",
      "MYCOPLASMA FAUCIUM AND BREAST CANCER\n",
      "Title 4 Spike-based phylogenetically defined clades within the Alphacoronavirus 1 species 5 6 Authors 7\n",
      "Oxygen transfer characteristics of a hollow fiber dialyser: toward possible repurposing of dialysers as blood oxygenators in the context of constrained availability of respiratory support\n",
      "Article type: Research Article Title: Under-the-radar dengue virus infections in natural populations of Aedes aegypti mosquitoes Running title: Dengue virus maintenance in mosquito vectors\n"
     ]
    }
   ],
   "source": [
    "#Here i have tried to make heading from paper Title in those topic+common words in those topic\n",
    "paper_topic1=[data[i][\"title\"] for i in topic1]\n",
    "paper_topic5=[data[i][\"title\"] for i in topic5]\n",
    "print(\"Most Common words:\",lda_model.print_topic(1, 50))\n",
    "print(\"\\nPaper Catogarized in this topic\")\n",
    "for i in paper_topic1:\n",
    "    print(i)"
   ]
  },
  {
   "cell_type": "code",
   "execution_count": 50,
   "metadata": {},
   "outputs": [],
   "source": [
    "def subtopic(topic1,NUM_TOPICS):\n",
    "    topic1_data=[tokenized_data[i] for i in topic1]\n",
    "    topic1_tokenized=[]\n",
    "    for i in topic1_data:\n",
    "        topic1_tokenized.append(clean_text(i))\n",
    "    dictionary = corpora.Dictionary(topic1_tokenized)\n",
    "    print(len(dictionary))\n",
    "    corpus = [dictionary.doc2bow(t) for t in topic1_tokenized]\n",
    "    model_topic1 = models.LdaModel(corpus=corpus, num_topics=NUM_TOPICS, id2word=dictionary)\n",
    "\n",
    "    papertopic1={}\n",
    "    for i,t in enumerate(topic1_data):\n",
    "        result=model_topic1[dictionary.doc2bow(clean_text(t))]\n",
    "        maxresult=result[0][1]\n",
    "        for j in result:\n",
    "            if j[1]>maxresult:\n",
    "                maxresult=j[1]\n",
    "        topic=[j[0] for j in result if j[1]==maxresult][0]\n",
    "        papertopic1[str(i)]=topic\n",
    "    return papertopic1"
   ]
  },
  {
   "cell_type": "code",
   "execution_count": 58,
   "metadata": {},
   "outputs": [
    {
     "name": "stdout",
     "output_type": "stream",
     "text": [
      "48591\n",
      "19395\n",
      "10782\n",
      "26841\n",
      "29308\n",
      "17058\n",
      "13163\n",
      "19329\n",
      "17654\n",
      "21672\n"
     ]
    },
    {
     "data": {
      "text/plain": [
       "<matplotlib.axes._subplots.AxesSubplot at 0x212e56ccb00>"
      ]
     },
     "execution_count": 58,
     "metadata": {},
     "output_type": "execute_result"
    },
    {
     "data": {
      "text/plain": [
       "<Figure size 1440x1440 with 0 Axes>"
      ]
     },
     "metadata": {},
     "output_type": "display_data"
    },
    {
     "data": {
      "image/png": "[encoded data removed]",
      "text/plain": [
       "<Figure size 1440x720 with 10 Axes>"
      ]
     },
     "metadata": {
      "needs_background": "light"
     },
     "output_type": "display_data"
    }
   ],
   "source": [
    "import seaborn as sns\n",
    "import matplotlib.pyplot as plt\n",
    "plt.figure(figsize=(20,20))\n",
    "f, axes = plt.subplots(2, 5,figsize=(20,10))\n",
    "axes[0][0].title.set_text('SubTopics Under Topic 0')\n",
    "axes[0][1].title.set_text('SubTopics Under Topic 1')\n",
    "axes[0][2].title.set_text('SubTopics Under Topic 2')\n",
    "axes[0][3].title.set_text('SubTopics Under Topic 3')\n",
    "axes[0][4].title.set_text('SubTopics Under Topic 4')\n",
    "axes[1][0].title.set_text('SubTopics Under Topic 5')\n",
    "axes[1][1].title.set_text('SubTopics Under Topic 6')\n",
    "axes[1][2].title.set_text('SubTopics Under Topic 7')\n",
    "axes[1][3].title.set_text('SubTopics Under Topic 8')\n",
    "axes[1][4].title.set_text('SubTopics Under Topic 9')\n",
    "sns.countplot([j for j in subtopic(topic0,5).values()],ax=axes[0][0])\n",
    "sns.countplot([j for j in subtopic(topic1,5).values()],ax=axes[0][1])\n",
    "sns.countplot([j for j in subtopic(topic2,5).values()],ax=axes[0][2])\n",
    "sns.countplot([j for j in subtopic(topic3,5).values()],ax=axes[0][3])\n",
    "sns.countplot([j for j in subtopic(topic4,5).values()],ax=axes[0][4])\n",
    "sns.countplot([j for j in subtopic(topic5,5).values()],ax=axes[1][0])\n",
    "sns.countplot([j for j in subtopic(topic6,5).values()],ax=axes[1][1])\n",
    "sns.countplot([j for j in subtopic(topic7,5).values()],ax=axes[1][2])\n",
    "sns.countplot([j for j in subtopic(topic8,5).values()],ax=axes[1][3])\n",
    "sns.countplot([j for j in subtopic(topic9,5).values()],ax=axes[1][4])\n"
   ]
  },
  {
   "cell_type": "markdown",
   "metadata": {},
   "source": [
    "## "
   ]
  },
  {
   "cell_type": "code",
   "execution_count": null,
   "metadata": {},
   "outputs": [],
   "source": []
  }
 ],
 "metadata": {
  "kernelspec": {
   "display_name": "Python 3",
   "language": "python",
   "name": "python3"
  },
  "language_info": {
   "codemirror_mode": {
    "name": "ipython",
    "version": 3
   },
   "file_extension": ".py",
   "mimetype": "text/x-python",
   "name": "python",
   "nbconvert_exporter": "python",
   "pygments_lexer": "ipython3",
   "version": "3.7.3"
  }
 },
 "nbformat": 4,
 "nbformat_minor": 4
}
