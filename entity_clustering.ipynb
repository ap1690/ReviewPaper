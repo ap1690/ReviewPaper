{
 "cells": [
  {
   "cell_type": "code",
   "execution_count": 1,
   "metadata": {},
   "outputs": [],
   "source": [
    "from tqdm import tqdm\n",
    "import scispacy\n",
    "import spacy\n",
    "import json\n",
    "import re\n",
    "import nltk\n",
    "from operator import itemgetter"
   ]
  },
  {
   "cell_type": "code",
   "execution_count": 2,
   "metadata": {},
   "outputs": [],
   "source": [
    "with open(\"../cleaned_data_json/sample.json\") as f:\n",
    "    data=json.load(f)"
   ]
  },
  {
   "cell_type": "code",
   "execution_count": 3,
   "metadata": {},
   "outputs": [],
   "source": [
    "#Merged abstract and body-text of a paper as doc\n",
    "text_data = [dt[\"abstract\"].lower() for dt in data[\"text\"] if dt['abstract']]"
   ]
  },
  {
   "cell_type": "code",
   "execution_count": 4,
   "metadata": {},
   "outputs": [
    {
     "name": "stdout",
     "output_type": "stream",
     "text": [
      "TOTAL DOCS :  1774\n"
     ]
    }
   ],
   "source": [
    "#Took 2000 Research Papers for modelling\n",
    "print(\"TOTAL DOCS : \", len(text_data))"
   ]
  },
  {
   "cell_type": "code",
   "execution_count": 5,
   "metadata": {},
   "outputs": [],
   "source": [
    "import unicodedata\n",
    "def remove_accent_chars(text):\n",
    "    text = unicodedata.normalize('NFKD',text).encode('ascii','ignore').decode('utf-8','ignore')\n",
    "    return text"
   ]
  },
  {
   "cell_type": "code",
   "execution_count": 6,
   "metadata": {},
   "outputs": [],
   "source": [
    "def remove_special_characters(text, remove_digits=False):\n",
    "    \"\"\"This takes text as input and then finds whether each character is not a-z A-Z 0-9 and replaces them with nothing \"\"\"\n",
    "    pattern = r'[^a-zA-z\\s]' if remove_digits else r'[^0-9a-zA-z\\s]'\n",
    "    text = re.sub(pattern, '', text)\n",
    "    return text"
   ]
  },
  {
   "cell_type": "code",
   "execution_count": 7,
   "metadata": {},
   "outputs": [],
   "source": [
    "stop_words_found = \"preprint license copyright author/funder word count text https doi figure holder data cases medrxiv biorxiv made time may study high total population number granted used using also international fig cc-by-nc-nd rights reserved peer-reviewed et al. medrxiv copyright auther/funder copyright copyrights pre print preprint = fig fig. figure \"\n",
    "stop_words_found = stop_words_found.split() #Best way to keep stop words\n",
    "stop_words_found.extend([\"abstract\",\"perpetuity\",\"authorfunder\",\"license\"])"
   ]
  },
  {
   "cell_type": "code",
   "execution_count": 8,
   "metadata": {},
   "outputs": [],
   "source": [
    "def cleaner(doc):\n",
    "    return \" \".join(map(str.lower,(map(str,([token.lemma_ for token in doc if not token.is_stop and not token.is_space and not token.is_punct and not token.like_url and not token.like_email and token.text not in stop_words_found])))))\n",
    "nlp = spacy.load(\"en_core_sci_sm\", disable = ['tagger', 'parser','ner'], max_length=2000000)\n",
    "nlp.add_pipe(cleaner,name=\"cleaner\",first=True)\n",
    "nlp.add_pipe(remove_accent_chars,name='accent_char_removal',after='cleaner')\n",
    "nlp.add_pipe(remove_special_characters,name='remove_special_char',after='accent_char_removal')"
   ]
  },
  {
   "cell_type": "code",
   "execution_count": 9,
   "metadata": {},
   "outputs": [],
   "source": [
    "text_data_cleaned = list(nlp.pipe(text_data))"
   ]
  },
  {
   "cell_type": "code",
   "execution_count": 10,
   "metadata": {},
   "outputs": [
    {
     "data": {
      "text/plain": [
       "'194 22 5168 23 24 25 reuse allow permission 27 positive strand rna genome picornaviruses comprise single large open read 28 frame flank 5 3 untranslated region utrs footandmouth disease virus fmdv 29 unusually large 5 utr 13 kb contain structural domain include 30 internal ribosome entry site ires facilitate initiation translation cisacting 31 replication element cre characterise structure 5 terminal 360 nucleotide 32 stemloop variable length polyctract approximately 100 200 nucleotide series 33 tandemly repeat pseudoknots pk investigate structure pk 34 selective 2 hydroxyl acetylation analyse primer extension shape analysis 35 determine contribution genome replication mutation deletion experiment 36 shape mutation experiment confirm importance previously predict pk 37 structure function deletion experiment show pk essential 38 replication provide genome competitive advantage 39 replicons fulllength genome lack pk replication competent infectious 40 virus rescue genome contain pk copy consistent 41 early report describe presence putative package signal pk region 42 43 reuse allow permission'"
      ]
     },
     "execution_count": 10,
     "metadata": {},
     "output_type": "execute_result"
    }
   ],
   "source": [
    "text_data_cleaned[0]"
   ]
  },
  {
   "cell_type": "code",
   "execution_count": 14,
   "metadata": {},
   "outputs": [],
   "source": [
    "\"\"\"Getting Top n-grams from corpus\"\"\"\n",
    "def flatten_corpus(corpus):\n",
    "    return \" \".join([d.strip() for d in corpus])\n",
    "\n",
    "def compute_ngrams(sequence, n):\n",
    "    return list(zip(*(sequence[index:] for index in range(n))))"
   ]
  },
  {
   "cell_type": "code",
   "execution_count": 15,
   "metadata": {},
   "outputs": [],
   "source": [
    "def get_top_n_grams(corpus,ngram_val=1,limit=10):\n",
    "    text_data_flatten = flatten_corpus(corpus)\n",
    "    tokens = [token.text for token in nlp.tokenizer(text_data_flatten)]\n",
    "    ngrams = compute_ngrams(tokens, ngram_val)\n",
    "    ngrams_freq_dist = nltk.FreqDist(ngrams)\n",
    "    sorted_ngrams_fd = sorted(ngrams_freq_dist.items(),key=itemgetter(1), reverse=True)\n",
    "    sorted_ngrams = sorted_ngrams_fd[0:limit]\n",
    "    sorted_ngrams = [(' '.join(text), freq) for text, freq in sorted_ngrams]\n",
    "    return sorted_ngrams"
   ]
  },
  {
   "cell_type": "code",
   "execution_count": 16,
   "metadata": {},
   "outputs": [
    {
     "data": {
      "text/plain": [
       "[('95 ci', 139),\n",
       " ('public health', 131),\n",
       " ('reuse allow', 128),\n",
       " ('allow permission', 128),\n",
       " ('acute respiratory', 107),\n",
       " ('respiratory syndrome', 105),\n",
       " ('severe acute', 87),\n",
       " ('novel coronavirus', 86),\n",
       " ('infectious disease', 79),\n",
       " ('covid19 pandemic', 74),\n",
       " ('covid19 patient', 73),\n",
       " ('immune response', 72),\n",
       " ('coronavirus disease', 72),\n",
       " ('rna virus', 68),\n",
       " ('s protein', 67),\n",
       " ('amino acid', 67),\n",
       " ('40 available', 66),\n",
       " ('viral infection', 62),\n",
       " ('t cell', 60),\n",
       " ('influenza virus', 59)]"
      ]
     },
     "execution_count": 16,
     "metadata": {},
     "output_type": "execute_result"
    }
   ],
   "source": [
    "get_top_n_grams(text_data_cleaned,ngram_val=2,limit=20)"
   ]
  },
  {
   "cell_type": "code",
   "execution_count": 17,
   "metadata": {},
   "outputs": [
    {
     "data": {
      "text/plain": [
       "[('reuse allow permission', 128),\n",
       " ('severe acute respiratory', 82),\n",
       " ('acute respiratory syndrome', 72),\n",
       " ('allow permission display', 55),\n",
       " ('coronavirus disease 2019', 52),\n",
       " ('respiratory syndrome coronavirus', 50),\n",
       " ('40 available display', 46),\n",
       " ('middle east respiratory', 29),\n",
       " ('ccby 40 available', 28),\n",
       " ('east respiratory syndrome', 27),\n",
       " ('coronavirus 2 sarscov2', 25),\n",
       " ('polymerase chain reaction', 24),\n",
       " ('respiratory syndrome sars', 23),\n",
       " ('respiratory tract infection', 23),\n",
       " ('intensive care unit', 22),\n",
       " ('novel coronavirus 2019ncov', 21),\n",
       " ('disease 2019 covid19', 21),\n",
       " ('public health emergency', 21),\n",
       " ('syndrome coronavirus 2', 21),\n",
       " ('novel coronavirus sarscov2', 20)]"
      ]
     },
     "execution_count": 17,
     "metadata": {},
     "output_type": "execute_result"
    }
   ],
   "source": [
    "get_top_n_grams(text_data_cleaned,ngram_val=3,limit=20)"
   ]
  },
  {
   "cell_type": "code",
   "execution_count": 18,
   "metadata": {},
   "outputs": [
    {
     "name": "stdout",
     "output_type": "stream",
     "text": [
      "5\n"
     ]
    }
   ],
   "source": [
    "text_data_flatten = flatten_corpus(text_data_cleaned)\n",
    "search = '95 ci'\n",
    "print(len(search))"
   ]
  },
  {
   "cell_type": "code",
   "execution_count": 19,
   "metadata": {},
   "outputs": [
    {
     "name": "stdout",
     "output_type": "stream",
     "text": [
      "8 95 ci 144 214 346 95 ci 281 417 scenario asymp\n",
      "5 ci 12 21and hr 23 95 ci 16 32 respectively arr\n",
      "5 95 ci 12 19 hr 18 95 ci 13 25 respectively dem\n",
      "vely dementia hr 12 95 ci 09 18 hr 18 95 ci 11 2\n",
      "3 95 ci 10 17 hr 17 95 ci 12 25 respectively dia\n",
      "vely diabetes hr 15 95 ci 13 19 hr 16 95 ci 11 2\n",
      "4 95 ci 12 26 hr 16 95 ci 12 21 respectively cop\n",
      "i 14 25 death hr 11 95 ci 07 17 previous use ace\n",
      "sessment score sofa 95 ci 1374 2860 p  0001 whit\n",
      "d 21 r0 estimate 44 95 ci 39 49 generalize growt\n",
      "usehold contact 136 95 ci 47 295 nonhousehold fa\n",
      "cvd hypertension 44 95 ci 264 747 37 95 ci 222 5\n",
      " saturation  88 699 95 ci 45 110 ddimer2500 69 9\n",
      "2 admission hr 0704 95 ci 0546 0909 1 decrease p\n",
      "uctive drop 232 076 95 ci 066 086 infect case es\n",
      "p0012 ct value 0158 95 ci 0025 0987 p0048 pii 19\n",
      "ial hospital hr 073 95 ci 054 099 illness hr 066\n",
      "io low midlands 111 95 ci 107 114 high north eas\n",
      "n difference 424 gl 95 ci 620 228 p0001 associat\n",
      "eral involvement 84 95 ci 081 088 commonly invol\n",
      "tial ct examination 95 ci weight conduct subgrou\n",
      "ptt  66 second 1428 95 ci 328 6224 sodium 130 mm\n"
     ]
    }
   ],
   "source": [
    "for i in range(0,len(text_data_flatten),5):\n",
    "    if text_data_flatten[i:i+5] == search:\n",
    "        print(text_data_flatten[i-20:i+28])"
   ]
  },
  {
   "cell_type": "code",
   "execution_count": 20,
   "metadata": {},
   "outputs": [
    {
     "data": {
      "text/plain": [
       "'POINTWISE MUTUAL INFORMATION'"
      ]
     },
     "execution_count": 20,
     "metadata": {},
     "output_type": "execute_result"
    }
   ],
   "source": [
    "\"\"\"POINTWISE MUTUAL INFORMATION\"\"\""
   ]
  },
  {
   "cell_type": "code",
   "execution_count": 21,
   "metadata": {},
   "outputs": [],
   "source": [
    "from nltk.collocations import BigramCollocationFinder\n",
    "from nltk.collocations import BigramAssocMeasures"
   ]
  },
  {
   "cell_type": "code",
   "execution_count": 22,
   "metadata": {},
   "outputs": [],
   "source": [
    "tokens = [token.text for token in nlp.tokenizer(text_data_flatten)]\n",
    "finder = BigramCollocationFinder.from_documents([tokens])"
   ]
  },
  {
   "cell_type": "code",
   "execution_count": 23,
   "metadata": {},
   "outputs": [
    {
     "data": {
      "text/plain": [
       "[('95', 'ci'),\n",
       " ('public', 'health'),\n",
       " ('allow', 'permission'),\n",
       " ('reuse', 'allow'),\n",
       " ('acute', 'respiratory'),\n",
       " ('respiratory', 'syndrome'),\n",
       " ('severe', 'acute'),\n",
       " ('novel', 'coronavirus'),\n",
       " ('infectious', 'disease'),\n",
       " ('covid19', 'pandemic')]"
      ]
     },
     "execution_count": 23,
     "metadata": {},
     "output_type": "execute_result"
    }
   ],
   "source": [
    "bigram_measures = BigramAssocMeasures()\n",
    "finder.nbest(bigram_measures.raw_freq, 10)"
   ]
  },
  {
   "cell_type": "code",
   "execution_count": 24,
   "metadata": {},
   "outputs": [
    {
     "data": {
      "text/plain": [
       "[('00049', '254'),\n",
       " ('0042', '0078'),\n",
       " ('0067', '0105'),\n",
       " ('0069', '0707'),\n",
       " ('0076', '0473'),\n",
       " ('0079', 's1a'),\n",
       " ('0102', '0982'),\n",
       " ('0165', '24279505520'),\n",
       " ('0167', '5877950950'),\n",
       " ('0176', '3098')]"
      ]
     },
     "execution_count": 24,
     "metadata": {},
     "output_type": "execute_result"
    }
   ],
   "source": [
    "finder.nbest(bigram_measures.pmi, 10)"
   ]
  },
  {
   "cell_type": "code",
   "execution_count": 25,
   "metadata": {},
   "outputs": [],
   "source": [
    "from nltk.collocations import TrigramCollocationFinder\n",
    "from nltk.collocations import TrigramAssocMeasures"
   ]
  },
  {
   "cell_type": "code",
   "execution_count": 26,
   "metadata": {},
   "outputs": [
    {
     "data": {
      "text/plain": [
       "[('0069', '0707', 'p0011'),\n",
       " ('05ml', 'intra', '025ml'),\n",
       " ('0987', 'p0048', 'pii'),\n",
       " ('11525', '24053', '240167'),\n",
       " ('1187', '3079', 'p0008'),\n",
       " ('1206', '4580', 'p0012'),\n",
       " ('1279', '92927', 'p0029'),\n",
       " ('1354', '648', '2091'),\n",
       " ('13[12', 'inappetence', '11[10'),\n",
       " ('143173', '647', '112173')]"
      ]
     },
     "execution_count": 26,
     "metadata": {},
     "output_type": "execute_result"
    }
   ],
   "source": [
    "finder = TrigramCollocationFinder.from_documents([tokens])\n",
    "trigram_measures = TrigramAssocMeasures()\n",
    "finder.nbest(trigram_measures.pmi, 10)"
   ]
  },
  {
   "cell_type": "code",
   "execution_count": 27,
   "metadata": {},
   "outputs": [],
   "source": [
    "from gensim import corpora,models"
   ]
  },
  {
   "cell_type": "code",
   "execution_count": 28,
   "metadata": {},
   "outputs": [],
   "source": [
    "tokenizer = spacy.load(\"en_core_sci_sm\")\n",
    "def get_tfidf_key_phrases(text_data_cleaned,top_n=10):\n",
    "    text_noun_phrases = []\n",
    "    for tdc in text_data_cleaned:\n",
    "        noun_phrase = []\n",
    "        for np in tokenizer(tdc).noun_chunks:\n",
    "            noun_phrase.append(np.text)\n",
    "        text_noun_phrases.append(noun_phrase)\n",
    "    dictionary = corpora.Dictionary(text_noun_phrases)\n",
    "    corpus = [dictionary.doc2bow(chunk) for chunk in text_noun_phrases]\n",
    "    tfidf = models.TfidfModel(corpus)\n",
    "    corpus_tfidf = tfidf[corpus]\n",
    "    weighted_phrases = {dictionary.get(idx): value for doc in corpus_tfidf for idx, value in doc}\n",
    "    weighted_phrases = sorted(weighted_phrases.items(),key=itemgetter(1), reverse=True)\n",
    "    weighted_phrases = [(term, round(wt, 3)) for term, wt in weighted_phrases]\n",
    "    return weighted_phrases[:top_n]"
   ]
  },
  {
   "cell_type": "code",
   "execution_count": 29,
   "metadata": {},
   "outputs": [
    {
     "data": {
      "text/plain": [
       "[('pulmonary sample individual', 1.0),\n",
       " ('word', 1.0),\n",
       " ('covid19 sarscov2', 1.0),\n",
       " ('reliable estimate covid19 mortality crucial aid control strategy assess effectiveness intervention',\n",
       "  1.0),\n",
       " ('motivation dna metabarcoding com', 1.0),\n",
       " ('severe acute respiratory syndrome coronavirus 2 sarscov2 disease', 1.0),\n",
       " ('reuse allow', 0.925),\n",
       " ('science', 0.925),\n",
       " ('pandemic spread', 0.734),\n",
       " ('rok bimodal distribution high morbidity', 0.707),\n",
       " ('standard gaussian distribution peak morbidity', 0.707),\n",
       " ('44 95 ci 39 49 generalize growth model', 0.707),\n",
       " ('estimate reproduction', 0.707),\n",
       " ('responsible current sarscov2', 0.707),\n",
       " ('zoonotic coronavirus cov infection', 0.707),\n",
       " ('1 inflammatory storm', 0.707),\n",
       " ('monocyte centric immune interaction 2 reveal singlecell analysis', 0.707),\n",
       " ('covid19 outbreak', 0.707),\n",
       " ('globally risk infection', 0.707),\n",
       " ('100 country report', 0.707),\n",
       " ('rapid global spread coronavirus disease covid19 unprecedented outbreak',\n",
       "  0.707),\n",
       " ('1 precipitation seasonality speed', 0.707),\n",
       " ('2 temperature', 0.707),\n",
       " ('clinical diagnosis treatment patient', 0.707),\n",
       " ('evidence covid19 infection human nervous system digestive system reproductive system respiratory system circulatory system urinary system scrnaseq',\n",
       "  0.707),\n",
       " ('complete genome sequence porcine epidemic diarrhea virus pedv strain chgx2015750a 750a isolate suckle piglet watery diarrhea guangxi china',\n",
       "  0.707),\n",
       " ('genetically close recent chinese variant pedvs distinct classical pedvs',\n",
       "  0.707),\n",
       " ('biology', 0.707),\n",
       " ('subject area ecologyhealth disease epidemiologymolecular biology', 0.707),\n",
       " ('cellular susceptibility fusion', 0.707),\n",
       " ('separate lipiddependent lipidindependent mechanism', 0.707),\n",
       " ('active viral protease inhibitor', 0.691),\n",
       " ('38 2008 s97s99', 0.691),\n",
       " ('immunology', 0.679),\n",
       " ('j gong e zhang b multiple organ infection pathogenesis', 0.679),\n",
       " ('perception experience', 0.676),\n",
       " ('public social distance social isolation measure', 0.676),\n",
       " ('3 generally long incubation serial interval', 0.653),\n",
       " ('epidemic absence appropriate control measure', 0.653),\n",
       " ('rapidly china world early surveillance public health 16 emergency disposal',\n",
       "  0.645),\n",
       " ('3c pro', 0.633),\n",
       " ('city china', 0.605),\n",
       " ('outbreak humantohuman', 0.605),\n",
       " ('diagnostic potential clinical impact', 0.605),\n",
       " ('respiratory panel', 0.605),\n",
       " ('activation irf3 pathway', 0.588),\n",
       " ('2019 novel coronavirus 2019ncov export mainland', 0.577),\n",
       " ('lead selfsustain outbreak population', 0.577),\n",
       " ('ongoing outbreak atypical pneumonia', 0.577),\n",
       " ('1 importance', 0.577),\n",
       " ('2 transmission', 0.577),\n",
       " ('highrisk occupation early coronavirus 4 disease 2019 covid19 local transmission',\n",
       "  0.577),\n",
       " ('development molecular syndromebased kit diagnosis respiratory infection',\n",
       "  0.577),\n",
       " ('rapid sensitive detection common respiratory pathogen 19 significant impact',\n",
       "  0.577),\n",
       " ('rural area', 0.577),\n",
       " ('43 tropism pathogenesis sarscov2', 0.577),\n",
       " ('application human organoids', 0.577),\n",
       " ('novel drug 44 discovery', 0.577),\n",
       " ('accurate secondary structure homolog consideration', 0.577),\n",
       " ('simultaneous consideration sequence alignment rna secondary structure structural alignment know help',\n",
       "  0.577),\n",
       " ('structural alignment', 0.577),\n",
       " ('pearson', 0.577),\n",
       " ('compute ratio daily death', 0.577),\n",
       " ('concern approach', 0.577),\n",
       " ('daily confirm infection b', 0.577),\n",
       " ('clear evidence apparent fatality rate', 0.577),\n",
       " ('death covid19 explanation', 0.577),\n",
       " ('vary different test regime admission', 0.577),\n",
       " ('public support containment measure', 0.577),\n",
       " ('quickly outbreak reduce exposure live animal', 0.577),\n",
       " ('wet market healthy diet promote', 0.577),\n",
       " ('collectively immune 40 available display', 0.577),\n",
       " ('effect social distance control impact covid19 epidemic simple susceptibleinfectedremoved epidemic model alternative complementary approach base target isolation vulnerable subpopulation',\n",
       "  0.577),\n",
       " ('efficient robust strategy low economic social cost short timeframe', 0.577),\n",
       " ('2008 1331s7s key word', 0.577),\n",
       " ('emergency mass critical care executive summary', 0.577),\n",
       " ('standard care', 0.577),\n",
       " ('production recombinant protein major success biotechnology animal cell',\n",
       "  0.577),\n",
       " ('protein appropriate posttranslational modification transgenic animal purpose milk egg white blood urine seminal plasma silk worm cocoon',\n",
       "  0.577),\n",
       " ('transgenic animal candidate source recombinant protein industrial scale',\n",
       "  0.577),\n",
       " ('c7 position', 0.577),\n",
       " ('chemmedchem compound', 0.577),\n",
       " ('low activity', 0.577),\n",
       " ('wet mount test', 0.569),\n",
       " ('bcv', 0.557),\n",
       " ('interferon gamma', 0.552),\n",
       " ('rationale', 0.548),\n",
       " ('sarscov2 outbreak low infection size', 0.548),\n",
       " ('widely discuss definite answer', 0.548),\n",
       " ('china mortality novel coronavirus pneumonia ncp severe critical face kind public health emergency efficient administrative emergency responsive mode',\n",
       "  0.547),\n",
       " ('hospital need', 0.547),\n",
       " ('ongoing sarscov2 outbreak', 0.543),\n",
       " ('pose great challenge global public health sensitive 21 accurate diagnosis method',\n",
       "  0.543),\n",
       " ('sicken', 0.543),\n",
       " ('concern possibility vertical transmission virus mother', 0.539),\n",
       " ('new coronavirus china', 0.539),\n",
       " ('necroptosis', 0.535),\n",
       " ('nurse', 0.535),\n",
       " ('nanotube', 0.531),\n",
       " ('honey bee', 0.53)]"
      ]
     },
     "execution_count": 29,
     "metadata": {},
     "output_type": "execute_result"
    }
   ],
   "source": [
    "get_tfidf_key_phrases(text_data_cleaned, top_n=100)"
   ]
  },
  {
   "cell_type": "code",
   "execution_count": 30,
   "metadata": {},
   "outputs": [],
   "source": [
    "import gensim"
   ]
  },
  {
   "cell_type": "code",
   "execution_count": 31,
   "metadata": {},
   "outputs": [],
   "source": [
    "text_tokens = []\n",
    "for doc in text_data_cleaned:\n",
    "    tokens = []\n",
    "    for t in tokenizer(doc):\n",
    "        if len(t.text) == 1 or len(list(set(t.text))) == 1:\n",
    "            pass\n",
    "        else:\n",
    "            tokens.append(t.text)\n",
    "    text_tokens.append(tokens)"
   ]
  },
  {
   "cell_type": "code",
   "execution_count": 32,
   "metadata": {},
   "outputs": [
    {
     "name": "stdout",
     "output_type": "stream",
     "text": [
      "[['194', '5168', '23', '24', '25', 'reuse', 'allow', 'permission', '27', 'positive', 'strand', 'rna', 'genome', 'picornaviruses', 'comprise', 'single', 'large', 'open', 'read', '28', 'frame', 'flank', 'untranslated', 'region', 'utrs', 'footandmouth', 'disease', 'virus', 'fmdv', '29', 'unusually', 'large', 'utr', '13', 'kb', 'contain', 'structural', 'domain', 'include', '30', 'internal', 'ribosome', 'entry', 'site', 'ires', 'facilitate', 'initiation', 'translation', 'cisacting', '31', 'replication', 'element', 'cre', 'characterise', 'structure', 'terminal', '360', 'nucleotide', '32', 'stemloop', 'variable', 'length', 'polyctract', 'approximately', '100', '200', 'nucleotide', 'series', 'tandemly', 'repeat', 'pseudoknots', 'pk', 'investigate', 'structure', 'pk', '34', 'selective', 'hydroxyl', 'acetylation', 'analyse', 'primer', 'extension', 'shape', 'analysis', '35', 'determine', 'contribution', 'genome', 'replication', 'mutation', 'deletion', 'experiment', '36', 'shape', 'mutation', 'experiment', 'confirm', 'importance', 'previously', 'predict', 'pk', '37', 'structure', 'function', 'deletion', 'experiment', 'show', 'pk', 'essential', '38', 'replication', 'provide', 'genome', 'competitive', 'advantage', '39', 'replicons', 'fulllength', 'genome', 'lack', 'pk', 'replication', 'competent', 'infectious', '40', 'virus', 'rescue', 'genome', 'contain', 'pk', 'copy', 'consistent', '41', 'early', 'report', 'describe', 'presence', 'putative', 'package', 'signal', 'pk', 'region', '42', '43', 'reuse', 'allow', 'permission'], ['past', 'month', 'new', 'coronavirus', 'sarscov2', 'epidemic', 'grow', 'exponentially', 'affect', '100', 'thousand', 'people', 'worldwide', 'cause', 'enormous', 'distress', 'economy', 'society', 'affect', 'country', 'plethora', 'analysis', 'base', 'viral', 'sequence', 'publish', 'scientific', 'journal', 'nonpeer', 'review', 'channel', 'investigate', 'sarscov2', 'genetic', 'heterogeneity', 'spatiotemporal', 'dissemination', 'examine', 'genome', 'sequence', 'currently', 'available', 'assess', 'presence', 'sufficient', 'information', 'reliable', 'phylogenetic', 'phylogeographic', 'study', 'analysis', 'clearly', 'show', 'severe', 'limitation', 'present', 'light', 'find', 'consider', 'well', 'preliminary', 'hypothesisgenerating', 'need', 'avoid', 'stigmatization', 'base', 'partial', 'information', 'continue', 'concerted', 'effort', 'increase', 'quality', 'sequence', 'require', 'robust', 'trace', 'epidemic', '40', 'available', 'display']]\n"
     ]
    }
   ],
   "source": [
    "print(text_tokens[:2])"
   ]
  },
  {
   "cell_type": "code",
   "execution_count": 33,
   "metadata": {},
   "outputs": [],
   "source": [
    "bigram = gensim.models.Phrases(text_tokens, min_count=20, threshold=50,delimiter=b'_') # higher threshold fewer phrases.\n",
    "bigram_model = gensim.models.phrases.Phraser(bigram)"
   ]
  },
  {
   "cell_type": "code",
   "execution_count": 34,
   "metadata": {},
   "outputs": [],
   "source": [
    "norm_corpus_bigrams = [bigram_model[doc] for doc in text_tokens]"
   ]
  },
  {
   "cell_type": "code",
   "execution_count": 35,
   "metadata": {},
   "outputs": [
    {
     "name": "stdout",
     "output_type": "stream",
     "text": [
      "Sample word to number mappings: [(0, '100'), (1, '13'), (2, '194'), (3, '200'), (4, '23'), (5, '24'), (6, '25'), (7, '27'), (8, '28'), (9, '29'), (10, '30'), (11, '31'), (12, '32'), (13, '34'), (14, '35')]\n",
      "Total Vocabulary Size: 15378\n"
     ]
    }
   ],
   "source": [
    "dictionary = gensim.corpora.Dictionary(norm_corpus_bigrams)\n",
    "print('Sample word to number mappings:', list(dictionary.items())[:15])\n",
    "print('Total Vocabulary Size:', len(dictionary))"
   ]
  },
  {
   "cell_type": "code",
   "execution_count": 36,
   "metadata": {},
   "outputs": [],
   "source": [
    "dictionary.filter_extremes(no_below=3, no_above=0.9)"
   ]
  },
  {
   "cell_type": "code",
   "execution_count": 37,
   "metadata": {},
   "outputs": [
    {
     "name": "stdout",
     "output_type": "stream",
     "text": [
      "Total Vocabulary Size: 4163\n"
     ]
    }
   ],
   "source": [
    "print('Total Vocabulary Size:', len(dictionary))"
   ]
  },
  {
   "cell_type": "code",
   "execution_count": 38,
   "metadata": {},
   "outputs": [],
   "source": [
    "bow_corpus = [dictionary.doc2bow(text) for text in norm_corpus_bigrams]"
   ]
  },
  {
   "cell_type": "code",
   "execution_count": 39,
   "metadata": {},
   "outputs": [
    {
     "name": "stdout",
     "output_type": "stream",
     "text": [
      "[(0, 1), (24, 2), (53, 1), (59, 1), (72, 1), (89, 1), (105, 1), (106, 2), (107, 1), (108, 1), (109, 1), (110, 2), (111, 1), (112, 1), (113, 1), (114, 1), (115, 1), (116, 1), (117, 1), (118, 1), (119, 1), (120, 1), (121, 1), (122, 1), (123, 1), (124, 1), (125, 1), (126, 2), (127, 1), (128, 1), (129, 1), (130, 1), (131, 1), (132, 1), (133, 1), (134, 2), (135, 1), (136, 1), (137, 1), (138, 1), (139, 1), (140, 1), (141, 1), (142, 1), (143, 1), (144, 1), (145, 1), (146, 1), (147, 1), (148, 1)]\n",
      "[('100', 1), ('analysis', 2), ('genome', 1), ('investigate', 1), ('presence', 1), ('show', 1), ('40_available', 1), ('affect', 2), ('assess', 1), ('available', 1), ('avoid', 1), ('base', 2), ('cause', 1), ('channel', 1), ('clearly', 1), ('concerted', 1), ('consider', 1), ('continue', 1), ('coronavirus', 1), ('country', 1), ('currently', 1), ('display', 1), ('dissemination', 1), ('distress', 1), ('economy', 1), ('effort', 1), ('enormous', 1), ('epidemic', 2), ('examine', 1), ('exponentially', 1), ('find', 1), ('genetic', 1), ('grow', 1), ('heterogeneity', 1), ('increase', 1), ('information', 2), ('journal', 1), ('light', 1), ('limitation', 1), ('month', 1), ('need', 1), ('new', 1), ('partial', 1), ('past', 1), ('people', 1), ('phylogenetic', 1), ('preliminary', 1), ('present', 1), ('publish', 1), ('quality', 1)]\n"
     ]
    }
   ],
   "source": [
    "print(bow_corpus[1][:50])\n",
    "print([(dictionary[idx],frequency) for idx,frequency in bow_corpus[1][:50]])"
   ]
  },
  {
   "cell_type": "code",
   "execution_count": 40,
   "metadata": {},
   "outputs": [
    {
     "name": "stdout",
     "output_type": "stream",
     "text": [
      "Total number of papers 1774\n"
     ]
    }
   ],
   "source": [
    "print(\"Total number of papers\",len(bow_corpus))"
   ]
  },
  {
   "cell_type": "code",
   "execution_count": 41,
   "metadata": {},
   "outputs": [],
   "source": [
    "TOTAL_TOPICS = 10\n",
    "lda_model = gensim.models.LdaModel(corpus=bow_corpus, id2word=dictionary,chunksize=1740, alpha='auto',eta='auto', random_state=42,\n",
    "                                    iterations=500, num_topics=TOTAL_TOPICS,passes=20, eval_every=None)"
   ]
  },
  {
   "cell_type": "code",
   "execution_count": 42,
   "metadata": {},
   "outputs": [
    {
     "name": "stdout",
     "output_type": "stream",
     "text": [
      "Topic #1:\n",
      "0.022*\"test\" + 0.020*\"antibody\" + 0.007*\"serum\" + 0.006*\"day\" + 0.006*\"positive\" + 0.006*\"sarscov2\" + 0.006*\"clinical\" + 0.006*\"result\" + 0.006*\"method\" + 0.005*\"igg\" + 0.005*\"mouse\" + 0.005*\"early\" + 0.005*\"infection\" + 0.004*\"resistance\" + 0.004*\"isolation\" + 0.004*\"development\" + 0.004*\"level\" + 0.004*\"igm\" + 0.004*\"sample\" + 0.004*\"concentration\"\n",
      "\n",
      "Topic #2:\n",
      "0.043*\"cell\" + 0.012*\"infection\" + 0.009*\"bat\" + 0.008*\"acid\" + 0.008*\"ifn\" + 0.008*\"plasmid\" + 0.006*\"antiviral\" + 0.006*\"viral\" + 0.006*\"activity\" + 0.006*\"function\" + 0.005*\"receptor\" + 0.005*\"activation\" + 0.005*\"jev\" + 0.005*\"sialic\" + 0.005*\"mouse\" + 0.004*\"fusion\" + 0.004*\"influenza\" + 0.004*\"response\" + 0.004*\"epithelial_cell\" + 0.004*\"express\"\n",
      "\n",
      "Topic #3:\n",
      "0.032*\"sample\" + 0.023*\"assay\" + 0.020*\"detect\" + 0.019*\"detection\" + 0.015*\"method\" + 0.013*\"test\" + 0.011*\"pcr\" + 0.010*\"diagnostic\" + 0.009*\"rtpcr\" + 0.009*\"virus\" + 0.009*\"pathogen\" + 0.007*\"reaction\" + 0.007*\"develope\" + 0.007*\"sequence\" + 0.007*\"sensitivity\" + 0.007*\"primer\" + 0.006*\"10\" + 0.006*\"probe\" + 0.006*\"kit\" + 0.006*\"ibv\"\n",
      "\n",
      "Topic #4:\n",
      "0.016*\"cat\" + 0.014*\"channel\" + 0.013*\"ion\" + 0.010*\"dog\" + 0.010*\"cholera\" + 0.010*\"feline\" + 0.009*\"pro\" + 0.009*\"ebolavirus\" + 0.008*\"vaccine\" + 0.008*\"protease\" + 0.008*\"activity\" + 0.007*\"3cl\" + 0.007*\"canine\" + 0.007*\"aerosol\" + 0.007*\"fip\" + 0.005*\"evd\" + 0.005*\"parvovirus\" + 0.004*\"critical\" + 0.004*\"serotype\" + 0.004*\"cpv2\"\n",
      "\n",
      "Topic #5:\n",
      "0.022*\"model\" + 0.018*\"covid19\" + 0.012*\"epidemic\" + 0.011*\"outbreak\" + 0.009*\"rate\" + 0.009*\"country\" + 0.008*\"estimate\" + 0.008*\"spread\" + 0.008*\"infection\" + 0.008*\"disease\" + 0.007*\"pandemic\" + 0.006*\"transmission\" + 0.006*\"china\" + 0.006*\"result\" + 0.006*\"report\" + 0.006*\"measure\" + 0.005*\"death\" + 0.005*\"infect\" + 0.005*\"individual\" + 0.005*\"case\"\n",
      "\n",
      "Topic #6:\n",
      "0.015*\"mask\" + 0.013*\"calve\" + 0.008*\"pro\" + 0.008*\"test\" + 0.006*\"fit\" + 0.006*\"tumor\" + 0.006*\"diarrhea\" + 0.006*\"feed\" + 0.006*\"rotavirus\" + 0.006*\"use\" + 0.006*\"herd\" + 0.006*\"source\" + 0.005*\"frameshifting\" + 0.005*\"ab\" + 0.005*\"active\" + 0.005*\"triphosphate\" + 0.004*\"form\" + 0.004*\"control\" + 0.004*\"animal\" + 0.004*\"n95\"\n",
      "\n",
      "Topic #7:\n",
      "0.019*\"virus\" + 0.015*\"protein\" + 0.014*\"cell\" + 0.011*\"viral\" + 0.009*\"sequence\" + 0.009*\"rna\" + 0.008*\"human\" + 0.007*\"sarscov2\" + 0.007*\"gene\" + 0.006*\"host\" + 0.006*\"infection\" + 0.006*\"coronavirus\" + 0.005*\"genome\" + 0.005*\"mutation\" + 0.005*\"identify\" + 0.005*\"strain\" + 0.005*\"target\" + 0.005*\"bind\" + 0.005*\"result\" + 0.005*\"analysis\"\n",
      "\n",
      "Topic #8:\n",
      "0.041*\"patient\" + 0.021*\"covid19\" + 0.014*\"infection\" + 0.014*\"clinical\" + 0.010*\"disease\" + 0.008*\"treatment\" + 0.008*\"sarscov2\" + 0.008*\"severe\" + 0.007*\"age\" + 0.007*\"95_ci\" + 0.007*\"respiratory\" + 0.007*\"child\" + 0.006*\"result\" + 0.006*\"include\" + 0.006*\"risk\" + 0.006*\"lung\" + 0.006*\"pneumonia\" + 0.006*\"coronavirus\" + 0.006*\"study\" + 0.006*\"group\"\n",
      "\n",
      "Topic #9:\n",
      "0.010*\"virus\" + 0.010*\"disease\" + 0.009*\"transmission\" + 0.009*\"bat\" + 0.007*\"species\" + 0.006*\"pathogen\" + 0.006*\"host\" + 0.006*\"new\" + 0.006*\"infection\" + 0.005*\"human\" + 0.005*\"sarscov2\" + 0.005*\"health\" + 0.004*\"year\" + 0.004*\"animal\" + 0.004*\"risk\" + 0.004*\"result\" + 0.004*\"emergence\" + 0.004*\"coronavirus\" + 0.004*\"factor\" + 0.003*\"method\"\n",
      "\n",
      "Topic #10:\n",
      "0.028*\"de\" + 0.020*\"la\" + 0.013*\"hcws\" + 0.010*\"les\" + 0.010*\"woman\" + 0.009*\"une\" + 0.009*\"des\" + 0.009*\"plant\" + 0.009*\"ppe\" + 0.008*\"trial\" + 0.008*\"pregnancy\" + 0.008*\"du\" + 0.007*\"en\" + 0.006*\"nasal\" + 0.006*\"endpoint\" + 0.006*\"que\" + 0.005*\"lateral\" + 0.005*\"root\" + 0.004*\"est\" + 0.004*\"neonatal\"\n",
      "\n"
     ]
    }
   ],
   "source": [
    "for topic_id, topic in lda_model.print_topics(num_topics=10, num_words=20):\n",
    "    print('Topic #'+str(topic_id+1)+':')\n",
    "    print(topic)\n",
    "    print()"
   ]
  },
  {
   "cell_type": "code",
   "execution_count": 43,
   "metadata": {},
   "outputs": [
    {
     "name": "stdout",
     "output_type": "stream",
     "text": [
      "avg coherence score:  -5.950038865668631\n"
     ]
    }
   ],
   "source": [
    "import numpy as np\n",
    "topics_coherences = lda_model.top_topics(bow_corpus,topn=20)\n",
    "avg_coherence_score = np.mean([score[1] for score in topics_coherences])\n",
    "print(\"avg coherence score: \",avg_coherence_score)"
   ]
  },
  {
   "cell_type": "code",
   "execution_count": 44,
   "metadata": {},
   "outputs": [
    {
     "name": "stdout",
     "output_type": "stream",
     "text": [
      "LDA Topics with Weights\n",
      "==================================================\n",
      "Topic #1:\n",
      "[('virus', 0.019), ('protein', 0.015), ('cell', 0.014), ('viral', 0.011), ('sequence', 0.009), ('rna', 0.009), ('human', 0.008), ('sarscov2', 0.007), ('gene', 0.007), ('host', 0.006), ('infection', 0.006), ('coronavirus', 0.006), ('genome', 0.005), ('mutation', 0.005), ('identify', 0.005), ('strain', 0.005), ('target', 0.005), ('bind', 0.005), ('result', 0.005), ('analysis', 0.005)]\n",
      "\n",
      "Topic #2:\n",
      "[('model', 0.022), ('covid19', 0.018), ('epidemic', 0.012), ('outbreak', 0.011), ('rate', 0.009), ('country', 0.009), ('estimate', 0.008), ('spread', 0.008), ('infection', 0.008), ('disease', 0.008), ('pandemic', 0.007), ('transmission', 0.006), ('china', 0.006), ('result', 0.006), ('report', 0.006), ('measure', 0.006), ('death', 0.005), ('infect', 0.005), ('individual', 0.005), ('case', 0.005)]\n",
      "\n",
      "Topic #3:\n",
      "[('virus', 0.01), ('disease', 0.01), ('transmission', 0.009), ('bat', 0.009), ('species', 0.007), ('pathogen', 0.006), ('host', 0.006), ('new', 0.006), ('infection', 0.006), ('human', 0.005), ('sarscov2', 0.005), ('health', 0.005), ('year', 0.004), ('animal', 0.004), ('risk', 0.004), ('result', 0.004), ('emergence', 0.004), ('coronavirus', 0.004), ('factor', 0.004), ('method', 0.003)]\n",
      "\n",
      "Topic #4:\n",
      "[('patient', 0.041), ('covid19', 0.021), ('infection', 0.014), ('clinical', 0.014), ('disease', 0.01), ('treatment', 0.008), ('sarscov2', 0.008), ('severe', 0.008), ('age', 0.007), ('95_ci', 0.007), ('respiratory', 0.007), ('child', 0.007), ('result', 0.006), ('include', 0.006), ('risk', 0.006), ('lung', 0.006), ('pneumonia', 0.006), ('coronavirus', 0.006), ('study', 0.006), ('group', 0.006)]\n",
      "\n",
      "Topic #5:\n",
      "[('sample', 0.032), ('assay', 0.023), ('detect', 0.02), ('detection', 0.019), ('method', 0.015), ('test', 0.013), ('pcr', 0.011), ('diagnostic', 0.01), ('rtpcr', 0.009), ('virus', 0.009), ('pathogen', 0.009), ('reaction', 0.007), ('develope', 0.007), ('sequence', 0.007), ('sensitivity', 0.007), ('primer', 0.007), ('10', 0.006), ('probe', 0.006), ('kit', 0.006), ('ibv', 0.006)]\n",
      "\n",
      "Topic #6:\n",
      "[('test', 0.022), ('antibody', 0.02), ('serum', 0.007), ('day', 0.006), ('positive', 0.006), ('sarscov2', 0.006), ('clinical', 0.006), ('result', 0.006), ('method', 0.006), ('igg', 0.005), ('mouse', 0.005), ('early', 0.005), ('infection', 0.005), ('resistance', 0.004), ('isolation', 0.004), ('development', 0.004), ('level', 0.004), ('igm', 0.004), ('sample', 0.004), ('concentration', 0.004)]\n",
      "\n",
      "Topic #7:\n",
      "[('cell', 0.043), ('infection', 0.012), ('bat', 0.009), ('acid', 0.008), ('ifn', 0.008), ('plasmid', 0.008), ('antiviral', 0.006), ('viral', 0.006), ('activity', 0.006), ('function', 0.006), ('receptor', 0.005), ('activation', 0.005), ('jev', 0.005), ('sialic', 0.005), ('mouse', 0.005), ('fusion', 0.004), ('influenza', 0.004), ('response', 0.004), ('epithelial_cell', 0.004), ('express', 0.004)]\n",
      "\n",
      "Topic #8:\n",
      "[('mask', 0.015), ('calve', 0.013), ('pro', 0.008), ('test', 0.008), ('fit', 0.006), ('tumor', 0.006), ('diarrhea', 0.006), ('feed', 0.006), ('rotavirus', 0.006), ('use', 0.006), ('herd', 0.006), ('source', 0.006), ('frameshifting', 0.005), ('ab', 0.005), ('active', 0.005), ('triphosphate', 0.005), ('form', 0.004), ('control', 0.004), ('animal', 0.004), ('n95', 0.004)]\n",
      "\n",
      "Topic #9:\n",
      "[('de', 0.028), ('la', 0.02), ('hcws', 0.013), ('les', 0.01), ('woman', 0.01), ('une', 0.009), ('des', 0.009), ('plant', 0.009), ('ppe', 0.009), ('trial', 0.008), ('pregnancy', 0.008), ('du', 0.008), ('en', 0.007), ('nasal', 0.006), ('endpoint', 0.006), ('que', 0.006), ('lateral', 0.005), ('root', 0.005), ('est', 0.004), ('neonatal', 0.004)]\n",
      "\n",
      "Topic #10:\n",
      "[('cat', 0.016), ('channel', 0.014), ('ion', 0.013), ('dog', 0.01), ('cholera', 0.01), ('feline', 0.01), ('pro', 0.009), ('ebolavirus', 0.009), ('vaccine', 0.008), ('protease', 0.008), ('activity', 0.008), ('3cl', 0.007), ('canine', 0.007), ('aerosol', 0.007), ('fip', 0.007), ('evd', 0.005), ('parvovirus', 0.005), ('critical', 0.004), ('serotype', 0.004), ('cpv2', 0.004)]\n",
      "\n"
     ]
    }
   ],
   "source": [
    "topics_with_wts = [item[0] for item in topics_coherences]\n",
    "print('LDA Topics with Weights')\n",
    "print('='*50)\n",
    "for idx, topic in enumerate(topics_with_wts):\n",
    "    print('Topic #'+str(idx+1)+':')\n",
    "    print([(term, round(wt, 3)) for wt, term in topic])\n",
    "    print()"
   ]
  },
  {
   "cell_type": "code",
   "execution_count": 45,
   "metadata": {},
   "outputs": [
    {
     "name": "stdout",
     "output_type": "stream",
     "text": [
      "LDA Topics without Weights\n",
      "==================================================\n",
      "Topic #1:\n",
      "['virus', 'protein', 'cell', 'viral', 'sequence', 'rna', 'human', 'sarscov2', 'gene', 'host', 'infection', 'coronavirus', 'genome', 'mutation', 'identify', 'strain', 'target', 'bind', 'result', 'analysis']\n",
      "\n",
      "Topic #2:\n",
      "['model', 'covid19', 'epidemic', 'outbreak', 'rate', 'country', 'estimate', 'spread', 'infection', 'disease', 'pandemic', 'transmission', 'china', 'result', 'report', 'measure', 'death', 'infect', 'individual', 'case']\n",
      "\n",
      "Topic #3:\n",
      "['virus', 'disease', 'transmission', 'bat', 'species', 'pathogen', 'host', 'new', 'infection', 'human', 'sarscov2', 'health', 'year', 'animal', 'risk', 'result', 'emergence', 'coronavirus', 'factor', 'method']\n",
      "\n",
      "Topic #4:\n",
      "['patient', 'covid19', 'infection', 'clinical', 'disease', 'treatment', 'sarscov2', 'severe', 'age', '95_ci', 'respiratory', 'child', 'result', 'include', 'risk', 'lung', 'pneumonia', 'coronavirus', 'study', 'group']\n",
      "\n",
      "Topic #5:\n",
      "['sample', 'assay', 'detect', 'detection', 'method', 'test', 'pcr', 'diagnostic', 'rtpcr', 'virus', 'pathogen', 'reaction', 'develope', 'sequence', 'sensitivity', 'primer', '10', 'probe', 'kit', 'ibv']\n",
      "\n",
      "Topic #6:\n",
      "['test', 'antibody', 'serum', 'day', 'positive', 'sarscov2', 'clinical', 'result', 'method', 'igg', 'mouse', 'early', 'infection', 'resistance', 'isolation', 'development', 'level', 'igm', 'sample', 'concentration']\n",
      "\n",
      "Topic #7:\n",
      "['cell', 'infection', 'bat', 'acid', 'ifn', 'plasmid', 'antiviral', 'viral', 'activity', 'function', 'receptor', 'activation', 'jev', 'sialic', 'mouse', 'fusion', 'influenza', 'response', 'epithelial_cell', 'express']\n",
      "\n",
      "Topic #8:\n",
      "['mask', 'calve', 'pro', 'test', 'fit', 'tumor', 'diarrhea', 'feed', 'rotavirus', 'use', 'herd', 'source', 'frameshifting', 'ab', 'active', 'triphosphate', 'form', 'control', 'animal', 'n95']\n",
      "\n",
      "Topic #9:\n",
      "['de', 'la', 'hcws', 'les', 'woman', 'une', 'des', 'plant', 'ppe', 'trial', 'pregnancy', 'du', 'en', 'nasal', 'endpoint', 'que', 'lateral', 'root', 'est', 'neonatal']\n",
      "\n",
      "Topic #10:\n",
      "['cat', 'channel', 'ion', 'dog', 'cholera', 'feline', 'pro', 'ebolavirus', 'vaccine', 'protease', 'activity', '3cl', 'canine', 'aerosol', 'fip', 'evd', 'parvovirus', 'critical', 'serotype', 'cpv2']\n",
      "\n"
     ]
    }
   ],
   "source": [
    "print('LDA Topics without Weights')\n",
    "print('='*50)\n",
    "for idx, topic in enumerate(topics_with_wts):\n",
    "    print('Topic #'+str(idx+1)+':')\n",
    "    print([term for wt, term in topic])\n",
    "    print()"
   ]
  },
  {
   "cell_type": "code",
   "execution_count": 46,
   "metadata": {},
   "outputs": [
    {
     "data": {
      "text/plain": [
       "'MALLET'"
      ]
     },
     "execution_count": 46,
     "metadata": {},
     "output_type": "execute_result"
    }
   ],
   "source": [
    "\"\"\"MALLET\"\"\""
   ]
  },
  {
   "cell_type": "code",
   "execution_count": 63,
   "metadata": {},
   "outputs": [],
   "source": [
    "MALLET_PATH = '../mallet-2.0.8/bin/mallet'\n",
    "lda_mallet = gensim.models.wrappers.LdaMallet(mallet_path=MALLET_PATH,corpus=bow_corpus,num_topics=13,id2word=dictionary,iterations=500, workers=16)"
   ]
  },
  {
   "cell_type": "code",
   "execution_count": 64,
   "metadata": {},
   "outputs": [],
   "source": [
    "topics = [[(term, round(wt, 3))\n",
    "                for term, wt in lda_mallet.show_topic(n, topn=20)]\n",
    "                   for n in range(0, TOTAL_TOPICS)]"
   ]
  },
  {
   "cell_type": "code",
   "execution_count": 65,
   "metadata": {},
   "outputs": [
    {
     "name": "stdout",
     "output_type": "stream",
     "text": [
      "Topic #1:\n",
      "['sarscov2', 'antibody', 'coronavirus', 'vaccine', 'drug', 'sarscov', '2019ncov', 'potential', 'development', 'sars', 'target', 'bind', 'antiviral', 'ace2', 'result', 'inhibitor', 'epitope', 'show', 'identify', 'treatment']\n",
      "\n",
      "Topic #2:\n",
      "['respiratory', 'assay', '10', '30', 'type', 'sample', 'detect', '20', 'child', '15', '25', '16', '24', '21', '50', '13', '28', '27', '23', '35']\n",
      "\n",
      "Topic #3:\n",
      "['disease', 'report', 'study', 'health', 'present', 'review', 'outbreak', 'public_health', 'research', 'include', 'affect', 'de', 'coronavirus', 'database', 'emerge', 'analysis', 'describe', 'relate', 'case', 'surveillance']\n",
      "\n",
      "Topic #4:\n",
      "['infection', 'risk', 'age', 'high', 'level', 'group', 'factor', 'low', '95_ci', 'rate', 'death', 'year', 'increase', 'result', 'associate', 'significantly', 'find', 'mortality', 'incidence', 'area']\n",
      "\n",
      "Topic #5:\n",
      "['strain', 'analysis', 'virus', 'isolate', 'show', 'find', 'major', 'gene', 'animal', 'infection', 'determine', 'identify', 'pattern', 'loss', 'recombinant', 'similar', 'pedv', 'associate', 'examine', 'carry']\n",
      "\n",
      "Topic #6:\n",
      "['virus', 'human', 'host', 'viral', 'influenza', 'species', 'bat', 'coronavirus', 'infection', 'pathogen', 'ibv', 'transmission', 'merscov', 'identify', 'infect', 'emergence', 'highly', 'entry', 'understand', 'potential']\n",
      "\n",
      "Topic #7:\n",
      "['model', 'individual', 'dynamic', 'predict', 'base', 'approach', 'prediction', 'current', 'provide', 'work', 'network', 'state', 'infectious_disease', 'future', 'set', 'social', 'important', 'information', 'propose', 'large']\n",
      "\n",
      "Topic #8:\n",
      "['cell', 'infection', 'expression', 'protein', 'mouse', 'mechanism', 'activity', 'response', 'receptor', 'suggest', 'role', 'function', 'induce', 'viral', 'pathway', 'signal', 'show', 'interaction', 'lung', 'level']\n",
      "\n",
      "Topic #9:\n",
      "['protein', 'sequence', 'rna', 'genome', 'structure', 'region', 'domain', 'gene', 'include', 'viral', 'reveal', 'structural', 'site', 'residue', 'complex', 'encode', 'nucleotide', 'replication', 'enzyme', 'bind']\n",
      "\n",
      "Topic #10:\n",
      "['patient', 'covid19', 'clinical', 'severe', 'treatment', 'pneumonia', 'disease', 'day', 'symptom', 'hospital', 'diagnosis', 'severity', 'characteristic', 'outcome', 'ct', '2019', 'blood', 'admission', 'collect', 'illness']\n",
      "\n"
     ]
    }
   ],
   "source": [
    "for idx, topic in enumerate(topics):\n",
    "    print('Topic #'+str(idx+1)+':')\n",
    "    print([term for term, wt in topic])\n",
    "    print()"
   ]
  },
  {
   "cell_type": "code",
   "execution_count": 51,
   "metadata": {},
   "outputs": [],
   "source": [
    "cv_coherence_model_lda = gensim.models.CoherenceModel(model=lda_mallet,corpus=bow_corpus,texts=norm_corpus_bigrams,dictionary=dictionary,coherence='c_v')\n",
    "avg_coherence_cv = cv_coherence_model_lda.get_coherence()\n",
    "umass_coherence_model_lda = gensim.models.CoherenceModel(model=lda_mallet,corpus=bow_corpus,texts=norm_corpus_bigrams,dictionary=dictionary,coherence='u_mass')\n",
    "avg_coherence_umass = umass_coherence_model_lda.get_coherence()"
   ]
  },
  {
   "cell_type": "code",
   "execution_count": 52,
   "metadata": {},
   "outputs": [
    {
     "name": "stdout",
     "output_type": "stream",
     "text": [
      "Avg. Coherence Score (Cv): 0.5032596165679364\n",
      "Avg. Coherence Score (UMass): -1.804618613582789\n"
     ]
    }
   ],
   "source": [
    "print('Avg. Coherence Score (Cv):', avg_coherence_cv)\n",
    "print('Avg. Coherence Score (UMass):', avg_coherence_umass)\n",
    "# print('Model Perplexity:', perplexity) "
   ]
  },
  {
   "cell_type": "code",
   "execution_count": 53,
   "metadata": {},
   "outputs": [],
   "source": [
    "from tqdm import tqdm\n",
    "def topic_model_coherence_generator(corpus,text_dictionary,start_topic_count=2,end_topic_count=20,step=1,cpus=1):\n",
    "    model = []\n",
    "    model_summary = []\n",
    "    for topic_nums in tqdm(range(start_topic_count,end_topic_count+1,step)):\n",
    "        lda_mallet = gensim.models.wrappers.LdaMallet(mallet_path=MALLET_PATH,corpus=bow_corpus,\n",
    "                                                      num_topics=topic_nums,id2word=dictionary,iterations=500, workers=16)\n",
    "        cv_coherence_model_lda = gensim.models.CoherenceModel(model=lda_mallet,corpus=bow_corpus,texts=norm_corpus_bigrams,\n",
    "                                                              dictionary=dictionary,coherence='c_v')\n",
    "        avg_coherence_cv = cv_coherence_model_lda.get_coherence()\n",
    "        \n",
    "        umass_coherence_model_lda = gensim.models.CoherenceModel(model=lda_mallet,corpus=bow_corpus,texts=norm_corpus_bigrams,\n",
    "                                                                 dictionary=dictionary,coherence='u_mass')\n",
    "        avg_coherence_umass = umass_coherence_model_lda.get_coherence()\n",
    "        \n",
    "        model_summary.append([topic_nums,avg_coherence_cv,avg_coherence_umass])\n",
    "        model.append(lda_mallet)\n",
    "    return model,model_summary"
   ]
  },
  {
   "cell_type": "code",
   "execution_count": 54,
   "metadata": {},
   "outputs": [
    {
     "name": "stderr",
     "output_type": "stream",
     "text": [
      "100%|██████████| 19/19 [07:04<00:00, 22.35s/it]\n"
     ]
    }
   ],
   "source": [
    "lda_models,lda_model_results = topic_model_coherence_generator(bow_corpus,dictionary,start_topic_count=2,end_topic_count=20,step=1,cpus=1)"
   ]
  },
  {
   "cell_type": "code",
   "execution_count": 56,
   "metadata": {},
   "outputs": [],
   "source": [
    "import pandas as pd\n",
    "df = pd.DataFrame(lda_model_results,columns=['Topics','CV_Score','UMass_Score'])"
   ]
  },
  {
   "cell_type": "code",
   "execution_count": 57,
   "metadata": {},
   "outputs": [],
   "source": [
    "df = df.set_index('Topics')"
   ]
  },
  {
   "cell_type": "code",
   "execution_count": 62,
   "metadata": {},
   "outputs": [
    {
     "data": {
      "text/plain": [
       "<matplotlib.axes._subplots.AxesSubplot at 0x7f254a987750>"
      ]
     },
     "execution_count": 62,
     "metadata": {},
     "output_type": "execute_result"
    },
    {
     "data": {
      "image/png": "[encoded data removed]",
      "text/plain": [
       "<Figure size 1080x432 with 1 Axes>"
      ]
     },
     "metadata": {
      "needs_background": "light"
     },
     "output_type": "display_data"
    }
   ],
   "source": [
    "df['CV_Score'].plot(figsize=(15,6),xticks=range(2,22))"
   ]
  },
  {
   "cell_type": "code",
   "execution_count": null,
   "metadata": {},
   "outputs": [],
   "source": []
  }
 ],
 "metadata": {
  "kernelspec": {
   "display_name": "Python 3",
   "language": "python",
   "name": "python3"
  },
  "language_info": {
   "codemirror_mode": {
    "name": "ipython",
    "version": 3
   },
   "file_extension": ".py",
   "mimetype": "text/x-python",
   "name": "python",
   "nbconvert_exporter": "python",
   "pygments_lexer": "ipython3",
   "version": "3.7.5"
  }
 },
 "nbformat": 4,
 "nbformat_minor": 4
}
